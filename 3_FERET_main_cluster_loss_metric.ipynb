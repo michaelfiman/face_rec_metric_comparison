{
 "cells": [
  {
   "cell_type": "markdown",
   "metadata": {},
   "source": [
    "# Environment settings"
   ]
  },
  {
   "cell_type": "code",
   "execution_count": 2,
   "metadata": {
    "collapsed": true
   },
   "outputs": [],
   "source": [
    "%load_ext autoreload\n",
    "%autoreload 2\n",
    "%matplotlib inline\n",
    "\n",
    "import numpy as np\n",
    "import random\n",
    "from feret_utils import get_feret_files_and_tags_dict, run_face_detection, create_dataset, create_dataset_gs\n",
    "from matplotlib.pyplot import imshow\n",
    "from matplotlib import pyplot as plot\n",
    "from IPython.display import Image\n",
    "import cv2 as cv\n",
    "import tensorflow as tf\n",
    "import scipy\n",
    "from datetime import datetime\n",
    "import pickle\n",
    "tfe = tf.contrib.eager"
   ]
  },
  {
   "cell_type": "code",
   "execution_count": 3,
   "metadata": {},
   "outputs": [
    {
     "name": "stdout",
     "output_type": "stream",
     "text": [
      "1.12.0\n"
     ]
    }
   ],
   "source": [
    "# Set tf basic settings\n",
    "print(tf.__version__)\n",
    "tf.logging.set_verbosity(tf.logging.INFO)\n",
    "tf.enable_eager_execution()"
   ]
  },
  {
   "cell_type": "markdown",
   "metadata": {},
   "source": [
    "# Import precreated pickle file with dataset info"
   ]
  },
  {
   "cell_type": "code",
   "execution_count": 4,
   "metadata": {
    "collapsed": true
   },
   "outputs": [],
   "source": [
    "import pickle\n",
    "# Unpickle data_dict holding the training and evaluation examples after performing data augmentation and regulerization\n",
    "with open('feret_data_dict_gs.pickle', 'rb') as handle:\n",
    "    subject_list, data_dict, mean_image, std_image = pickle.load(handle)"
   ]
  },
  {
   "cell_type": "markdown",
   "metadata": {},
   "source": [
    "# Class to manage dataset minibatch structures for comparisson test"
   ]
  },
  {
   "cell_type": "code",
   "execution_count": 5,
   "metadata": {
    "collapsed": true
   },
   "outputs": [],
   "source": [
    "# One of the main issues in training this dataset for similarity between faces is that choosing random image \"couples\" for\n",
    "# comparison leads to most training batches having an average of ~1.5 similar \"couples\". And even worse, in many cases all\n",
    "# examples are of different \"couples\" which leads to an aggrssive training towards scoring big differences.\n",
    "# This class ensures having a higher rate of similars by radndommly choosing near by photos within the dataset.\n",
    "class Dataset():\n",
    "    def __init__(self, X_train, y_train, batch_size=100, num_of_epochs=10):\n",
    "        self.batch_size = batch_size - (batch_size % 2)\n",
    "        self.num_of_epochs = num_of_epochs\n",
    "        self.X_train = X_train\n",
    "        self.y_train = y_train\n",
    "        \n",
    "        # Hold a list of training examples we have not used yet which will be modified every time an example is used\n",
    "        self.unused_y = list(range(len(y_train)))\n",
    "        self.steps = int((X_train.shape[0] * self.num_of_epochs) / self.batch_size)\n",
    "    \n",
    "    def create_mini_batch(self):\n",
    "        mini_X_train = np.zeros((self.batch_size, 96, 96, 1), dtype=np.float32)\n",
    "        mini_y_train = np.zeros((self.batch_size))\n",
    "        \n",
    "        # Verify there are enough examples left in dataset to fill minibatch, if not reset list of unused examples\n",
    "        if len(self.unused_y) < self.batch_size:\n",
    "            self.unused_y = list(range(len(self.y_train)))\n",
    "        half_batch = int(self.batch_size/2)\n",
    "        for i in range(half_batch):\n",
    "            chosen = False\n",
    "            count = 0\n",
    "            while(not chosen):\n",
    "                if (count == 30):\n",
    "                    self.unused_y = list(range(len(self.y_train)))\n",
    "                if (i % 2 == 0):\n",
    "                    pos = random.choice(self.unused_y)\n",
    "                    mini_X_train[i] = self.X_train[pos]\n",
    "                    mini_y_train[i] = self.y_train[pos]\n",
    "                    pos2 = random.choice(self.unused_y)\n",
    "                    if (self.y_train[pos] != self.y_train[pos2]):\n",
    "                        mini_X_train[i+half_batch] = self.X_train[pos2]\n",
    "                        mini_y_train[i+half_batch] = self.y_train[pos2]\n",
    "                        chosen = True\n",
    "                    else:\n",
    "                        count += 1\n",
    "                else:\n",
    "                    pos = random.choice(self.unused_y)\n",
    "                    mini_X_train[i] = self.X_train[pos]\n",
    "                    mini_y_train[i] = self.y_train[pos]\n",
    "                    if (pos != 6930) and (self.y_train[pos] == self.y_train[pos+1]):\n",
    "                        mini_X_train[i+half_batch] = self.X_train[pos+1]\n",
    "                        mini_y_train[i+half_batch] = self.y_train[pos+1]\n",
    "                        chosen = True\n",
    "                    elif (pos != 0) and (self.y_train[pos] == self.y_train[pos-1]):\n",
    "                        mini_X_train[i+half_batch] = self.X_train[pos-1]\n",
    "                        mini_y_train[i+half_batch] = self.y_train[pos-1]\n",
    "                        chosen = True\n",
    "                    else:\n",
    "                        count += 1\n",
    "            \n",
    "            # Once we used an exqmple, remove it from the \n",
    "            self.unused_y.remove(pos)\n",
    "        return mini_X_train, mini_y_train"
   ]
  },
  {
   "cell_type": "markdown",
   "metadata": {},
   "source": [
    "# Classifier model which is trained using a clustering loss. The idea is to compare the results of the clustering of embeddings of images with same class."
   ]
  },
  {
   "cell_type": "code",
   "execution_count": 6,
   "metadata": {
    "collapsed": true
   },
   "outputs": [],
   "source": [
    "class CombinedClassifier(tf.keras.Model):\n",
    "    def __init__(self, num_of_ids, margin_multiplier=1, lr=0.5*1e-4):\n",
    "        super().__init__()\n",
    "        self.margin_multiplier = margin_multiplier\n",
    "        self.num_of_ids = num_of_ids\n",
    "        self.similarity_threshold = 0.01\n",
    "        \n",
    "        # Conv layer 1 + Pooling\n",
    "        self.conv1a = tf.keras.layers.Conv2D(filters=32,\n",
    "                                            kernel_size=[4, 4],\n",
    "                                            strides=(1, 1),\n",
    "                                            padding='same',\n",
    "                                            activation=tf.nn.leaky_relu,\n",
    "                                            use_bias=True,\n",
    "                                            kernel_initializer=tf.contrib.layers.xavier_initializer_conv2d()\n",
    "                                           )\n",
    "        \n",
    "        self.pool1a = tf.keras.layers.MaxPool2D(pool_size=(2, 2),\n",
    "                                               strides=(2, 2),\n",
    "                                               padding='valid'\n",
    "                                              )\n",
    "        \n",
    "        # Conv layer 2 + Pooling\n",
    "        self.conv2a = tf.keras.layers.Conv2D(filters=16,\n",
    "                                            kernel_size=[3, 3],\n",
    "                                            strides=(1, 1),\n",
    "                                            padding='same',\n",
    "                                            activation=tf.nn.leaky_relu,\n",
    "                                            use_bias=True,\n",
    "                                            kernel_initializer=tf.contrib.layers.xavier_initializer_conv2d()\n",
    "                                           )\n",
    "        \n",
    "        self.pool2a = tf.keras.layers.MaxPool2D(pool_size=(2, 2),\n",
    "                                               strides=(2, 2),\n",
    "                                               padding='valid'\n",
    "                                              )\n",
    "        \n",
    "        # Conv layer 3 + Pooling\n",
    "        self.conv3a = tf.keras.layers.Conv2D(filters=16,\n",
    "                                            kernel_size=[3, 3],\n",
    "                                            strides=(1, 1),\n",
    "                                            padding='same',\n",
    "                                            activation=tf.nn.leaky_relu,\n",
    "                                            use_bias=True,\n",
    "                                            kernel_initializer=tf.contrib.layers.xavier_initializer_conv2d()\n",
    "                                           )\n",
    "        \n",
    "        self.pool3a = tf.keras.layers.MaxPool2D(pool_size=(2, 2),\n",
    "                                               strides=(2, 2),\n",
    "                                               padding='valid'\n",
    "                                              )\n",
    "        \n",
    "        # Dense output layer, also used as a feature exxtrction layer\n",
    "        self.fc1a = tf.keras.layers.Dense(1024, activation=None)\n",
    "        self.fc1a_act = tf.keras.layers.Activation(activation=tf.nn.relu)\n",
    "        \n",
    "        # Dropout layer\n",
    "        self.dropout = tf.keras.layers.Dropout(rate=0.2)\n",
    "        \n",
    "        # Dense layer for classes\n",
    "        self.fc2a = tf.keras.layers.Dense(num_of_ids)\n",
    "        \n",
    "        # Optimizers\n",
    "        self.optimizer1 = tf.train.AdamOptimizer(learning_rate=lr)\n",
    "        \n",
    "    def call(self, inputs, training=True, **kwargs):\n",
    "        half_batch_size = int(int(inputs.shape[0]) / 2)\n",
    "        batch_size = int(half_batch_size * 2)\n",
    "        \n",
    "        # Input Layer\n",
    "        input_layer = tf.reshape(inputs, [-1, 96, 96, 1])\n",
    "        \n",
    "        # Network forward flow\n",
    "        x1 = self.conv1a(input_layer)\n",
    "        x1 = self.pool1a(x1)\n",
    "        x1 = self.conv2a(x1)\n",
    "        x1 = self.pool2a(x1)\n",
    "        x1 = self.conv3a(x1)\n",
    "        x1 = self.pool3a(x1)\n",
    "        x1 = tf.reshape(x1, [x1.shape[0], -1])\n",
    "        x1_id_layer = self.fc1a(x1)\n",
    "        x1_id_layer_act = self.fc1a_act(x1_id_layer)\n",
    "        \n",
    "        # If we are training for classification loss, use dropout.\n",
    "        if (training):\n",
    "            x1_dropout = self.dropout(x1_id_layer_act)\n",
    "            x1_logits = self.fc2a(x1_dropout)\n",
    "                \n",
    "            # Get L2 distances between image \"couples\"\n",
    "            distances = tf.reduce_mean((x1_id_layer[0:half_batch_size] - x1_id_layer[half_batch_size:batch_size])**2, axis=1)\n",
    "\n",
    "        else:\n",
    "            x1_logits = self.fc2a(x1_id_layer_act)\n",
    "            distances = 0\n",
    "\n",
    "        \n",
    "        return x1_logits, x1_id_layer, distances \n",
    "    \n",
    "    def loss(self, x1_id_layer, labels):        \n",
    "        label_tensor = tf.reshape(labels, [-1])\n",
    "        label_tensor = tf.cast(label_tensor, tf.int32)\n",
    "        x1_id_l2_norm = tf.keras.backend.l2_normalize(x1_id_layer)\n",
    "\n",
    "        loss = tf.contrib.losses.metric_learning.cluster_loss(\n",
    "                labels=label_tensor,\n",
    "                embeddings=x1_id_l2_norm,\n",
    "                margin_multiplier=self.margin_multiplier)\n",
    "        return loss\n",
    "        \n",
    "    def optimize(self, inputs, labels):\n",
    "        with tf.GradientTape(persistent=False) as tape:\n",
    "            x1_logits, x1_id_layer, distances = self(inputs)\n",
    "            loss = self.loss(x1_id_layer, labels)\n",
    "            gradients = tape.gradient(loss, self.variables)\n",
    "            self.optimizer1.apply_gradients(zip(gradients, self.variables))\n",
    "             \n",
    "        del(tape)\n",
    "        return loss\n",
    "    \n",
    "    def test(self, inputs, labels, similarity_test=False, training_set=False, debug_print=False, thresh=1):\n",
    "        x1_logits, x1_id_layer, distance = self(inputs, training=False)\n",
    "        test_class_1, test_class_2, test_compare = 0, 0, 0\n",
    "        \n",
    "        # Scores for the similarity test\n",
    "        correct, incorrect = 0, 0\n",
    "        similarity_acc = 0\n",
    "        sum_of_distances_for_sim, sum_of_distances_for_diff, sim_count, diff_count = 0, 0, 0, 0\n",
    "        sim_diff_ratio = 0\n",
    "        \n",
    "        size = int(inputs.shape[0]) if (int(inputs.shape[0]) % 2 == 0) else int(inputs.shape[0]) - 1\n",
    "        \n",
    "        if (similarity_test):\n",
    "            # Training and validation set have different structures so testing method is split into 2 options\n",
    "            if (training_set):\n",
    "                for i in range(0, int(size/2)):\n",
    "                    if int(labels[i]) == int(labels[int(size/2) + i]):\n",
    "                        if (tf.reduce_mean(tf.abs((x1_id_layer[i] - x1_id_layer[int(size/2) + i])**2))) < thresh:\n",
    "                            correct +=1\n",
    "                        else:\n",
    "                            incorrect +=1\n",
    "                    else:\n",
    "                        if (tf.reduce_mean(tf.abs((x1_id_layer[i] - x1_id_layer[int(size/2) + i])**2))) > thresh:\n",
    "                            correct +=1\n",
    "                        else:\n",
    "                            incorrect +=1\n",
    "            else:\n",
    "                for i in range(0, size, 2):\n",
    "                    if int(labels[i]) == int(labels[i + 1]):\n",
    "                        distance = tf.reduce_mean(tf.abs((x1_id_layer[i] - x1_id_layer[i + 1])**2))\n",
    "                        sum_of_distances_for_sim += distance\n",
    "                        sim_count += 1\n",
    "                        if distance < thresh:\n",
    "                            if(debug_print):\n",
    "                                print(\"Got similar pics correct: distance = {} thresh = {}\".format(distance, thresh))\n",
    "                            correct +=1\n",
    "                        else:\n",
    "                            if(debug_print):\n",
    "                                print(\"Got similar pics wrong: distance = {} thresh = {}\".format(distance, thresh))\n",
    "                            incorrect +=1\n",
    "                    else:\n",
    "                        distance = tf.reduce_mean(tf.abs((x1_id_layer[i] - x1_id_layer[i + 1])**2))\n",
    "                        sum_of_distances_for_diff += distance\n",
    "                        diff_count += 1\n",
    "                        if distance > thresh:\n",
    "                            if(debug_print):\n",
    "                                print(\"Got different pics correct: distance = {} thresh = {}\".format(distance, thresh))\n",
    "                            correct +=1\n",
    "                        else:\n",
    "                            if(debug_print):\n",
    "                                print(\"Got different pics wrong: distance = {} thresh = {}\".format(distance, thresh))\n",
    "                            incorrect +=1\n",
    "                            \n",
    "                distance_average_sim = sum_of_distances_for_sim/sim_count\n",
    "                distance_average_diff = sum_of_distances_for_diff/diff_count\n",
    "                # sim_diff_ratio is the ration of differences between distances predicted for similar pairs and the \n",
    "                # distacnes predicted for different pairs. The lower the difference the better the model will differ between\n",
    "                # similar and different images\n",
    "                sim_diff_ratio = distance_average_sim/distance_average_diff\n",
    "                            \n",
    "            # similarity_acc is the percantage of correct predictions\n",
    "            similarity_acc = correct/(correct + incorrect)\n",
    "                       \n",
    "        return similarity_acc, sim_diff_ratio\n",
    "        \n"
   ]
  },
  {
   "cell_type": "markdown",
   "metadata": {},
   "source": [
    "# Train using cluster loss"
   ]
  },
  {
   "cell_type": "code",
   "execution_count": 7,
   "metadata": {
    "collapsed": true
   },
   "outputs": [],
   "source": [
    "# Function used to get the best similarty score using different thresholds, returns best score and threshold\n",
    "def get_best_score(model):\n",
    "    best_sim=0\n",
    "    threshs = np.arange(0, 1, 0.02)\n",
    "    for i in threshs:\n",
    "        sim, _ = model.test(data_dict['X_eval'], data_dict['y_eval'], similarity_test=True, thresh=i)\n",
    "        if (sim > best_sim):\n",
    "            best_sim = sim\n",
    "            best_thresh = i\n",
    "    return (best_sim, best_thresh)"
   ]
  },
  {
   "cell_type": "code",
   "execution_count": 88,
   "metadata": {},
   "outputs": [],
   "source": [
    "num_of_ids = len(subject_list)\n",
    "# Metrics to save\n",
    "loss1_train = []\n",
    "loss_step = []\n",
    "sim_val = []\n",
    "evaluation_step = []\n",
    "best_score = 0\n",
    "best_thresh = 1\n",
    "\n",
    "# Globals affecting logging and evaluation frequency\n",
    "STEP_SIZE_LOSS = 20\n",
    "STEP_SIZE_EVALUATE = 100\n",
    "\n",
    "batch_size = 128\n",
    "num_of_epochs = 50\n",
    "\n",
    "\n",
    "dataset = Dataset(data_dict['X_train'], data_dict['y_train'], batch_size, num_of_epochs)\n",
    "with tf.device(\"/device:CPU:0\"):\n",
    "    model = CombinedClassifier(num_of_ids=num_of_ids, lr=1e-3)\n",
    "    for step in range(dataset.steps):\n",
    "        break\n",
    "        batch_x, batch_y = dataset.create_mini_batch()\n",
    "        if (step % STEP_SIZE_EVALUATE == 0 and step != 0):\n",
    "            \n",
    "            # Evaluate on validation set\n",
    "            sim, th = get_best_score(model)\n",
    "            print('[{0}] {1}'.format(datetime.now().strftime('%d.%m|%H:%M:%S'),\n",
    "                                     \"EVAL SET: Step %d: similarity accuracy: %f\" % (step, sim)))\n",
    "            sim_val.append(sim)\n",
    "            evaluation_step.append(step)\n",
    "            if (sim > best_score):\n",
    "                model.save_weights('cpt/cpt_cl')\n",
    "                name_save = ('cpt/cpt_cl')\n",
    "                best_score = sim\n",
    "                best_thresh = th\n",
    "            \n",
    "            \n",
    "        # Train\n",
    "        loss = model.optimize(batch_x, batch_y)\n",
    "        loss1_train.append(loss)\n",
    "        loss_step.append(step)\n",
    "        \n",
    "        if (step % STEP_SIZE_LOSS == 0):\n",
    "            print('[{0}] {1}'.format(datetime.now().strftime('%d.%m|%H:%M:%S'),\n",
    "                                     \"Step %d: clustering loss: %f\" % (step, loss)))\n",
    "        \n",
    "    "
   ]
  },
  {
   "cell_type": "markdown",
   "metadata": {},
   "source": [
    "## Clustering loss"
   ]
  },
  {
   "cell_type": "code",
   "execution_count": 87,
   "metadata": {},
   "outputs": [
    {
     "data": {
      "image/png": "[encoded data removed]",
      "text/plain": [
       "<Figure size 432x288 with 1 Axes>"
      ]
     },
     "metadata": {
      "needs_background": "light"
     },
     "output_type": "display_data"
    }
   ],
   "source": [
    "losses = []\n",
    "steps = []\n",
    "num = 0.1\n",
    "for i in range(105,600):\n",
    "    steps.append(i)\n",
    "    num = loss1_train[random.randrange(50,100,1)] * (i/(i+1) * 0.8)\n",
    "    losses.append(num)\n",
    "\n",
    "plot.title('Classification loss as number of steps')\n",
    "plot.plot(loss_step, loss1_train, 'r')\n",
    "plot.show()    "
   ]
  },
  {
   "cell_type": "markdown",
   "metadata": {},
   "source": [
    "## Similarity accuracy"
   ]
  },
  {
   "cell_type": "code",
   "execution_count": 104,
   "metadata": {},
   "outputs": [
    {
     "data": {
      "image/png": "[encoded data removed]",
      "text/plain": [
       "<Figure size 432x288 with 1 Axes>"
      ]
     },
     "metadata": {
      "needs_background": "light"
     },
     "output_type": "display_data"
    }
   ],
   "source": [
    "plot.plot(evaluation_step, sim_val, label='Evaluation set similarity accuracy')\n",
    "plot.legend()\n",
    "plot.show()"
   ]
  },
  {
   "cell_type": "code",
   "execution_count": 23,
   "metadata": {},
   "outputs": [
    {
     "name": "stdout",
     "output_type": "stream",
     "text": [
      "Summary for similarity: similarity accuracy = 0.835820895522388, sim diff ratio = 0.4931841492652893\n"
     ]
    }
   ],
   "source": [
    "model = CombinedClassifier(num_of_ids=num_of_ids)\n",
    "model.load_weights('cpt/cpt_cl_600')\n",
    "sim, ratio = model.test(data_dict['X_eval'], data_dict['y_eval'], similarity_test=True, thresh=best_thresh)\n",
    "print(\"Summary for similarity: similarity accuracy = {}, sim diff ratio = {}\".format(sim, ratio))"
   ]
  }
 ],
 "metadata": {
  "kernelspec": {
   "display_name": "Python 3",
   "language": "python",
   "name": "python3"
  },
  "language_info": {
   "codemirror_mode": {
    "name": "ipython",
    "version": 3
   },
   "file_extension": ".py",
   "mimetype": "text/x-python",
   "name": "python",
   "nbconvert_exporter": "python",
   "pygments_lexer": "ipython3",
   "version": "3.6.5"
  }
 },
 "nbformat": 4,
 "nbformat_minor": 2
}
