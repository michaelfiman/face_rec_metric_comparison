{
 "cells": [
  {
   "cell_type": "markdown",
   "metadata": {},
   "source": [
    "# Environment settings"
   ]
  },
  {
   "cell_type": "code",
   "execution_count": 1,
   "metadata": {
    "collapsed": true
   },
   "outputs": [],
   "source": [
    "%load_ext autoreload\n",
    "%autoreload 2\n",
    "%matplotlib inline\n",
    "\n",
    "import numpy as np\n",
    "import random\n",
    "from feret_utils import get_feret_files_and_tags_dict, run_face_detection, create_dataset, create_dataset_gs\n",
    "from matplotlib.pyplot import imshow\n",
    "from matplotlib import pyplot as plot\n",
    "from IPython.display import Image\n",
    "import cv2 as cv\n",
    "import tensorflow as tf\n",
    "import scipy\n",
    "from datetime import datetime\n",
    "import pickle\n",
    "tfe = tf.contrib.eager"
   ]
  },
  {
   "cell_type": "code",
   "execution_count": 2,
   "metadata": {},
   "outputs": [
    {
     "name": "stdout",
     "output_type": "stream",
     "text": [
      "1.12.0\n"
     ]
    }
   ],
   "source": [
    "# Set tf basic settings\n",
    "print(tf.__version__)\n",
    "tf.logging.set_verbosity(tf.logging.INFO)\n",
    "tf.enable_eager_execution()"
   ]
  },
  {
   "cell_type": "markdown",
   "metadata": {},
   "source": [
    "# Import precreated pickle file with dataset info"
   ]
  },
  {
   "cell_type": "code",
   "execution_count": 3,
   "metadata": {
    "collapsed": true
   },
   "outputs": [],
   "source": [
    "import pickle\n",
    "# Unpickle data_dict holding the training and evaluation examples after performing data augmentation and regulerization\n",
    "with open('feret_data_dict_gs.pickle', 'rb') as handle:\n",
    "    subject_list, data_dict, mean_image, std_image = pickle.load(handle)"
   ]
  },
  {
   "cell_type": "markdown",
   "metadata": {},
   "source": [
    "# Class to manage dataset minibatch structures for comparisson test"
   ]
  },
  {
   "cell_type": "code",
   "execution_count": 4,
   "metadata": {
    "collapsed": true
   },
   "outputs": [],
   "source": [
    "# This class allows building \"couples\" for the purpose of npairs training.\n",
    "# It samples for every minibatch a set of batch size couples with different labels.\n",
    "class Dataset():\n",
    "    def __init__(self, X_train, y_train, batch_size=100, num_of_epochs=10):\n",
    "        self.batch_size = batch_size - (batch_size % 2)\n",
    "        self.num_of_epochs = num_of_epochs\n",
    "        self.X_train = X_train\n",
    "        self.y_train = y_train\n",
    "        \n",
    "        # Hold a list of training examples we have not used yet which will be modified every time an example is used\n",
    "        self.unused_y = list(range(len(y_train)))\n",
    "        self.steps = int((X_train.shape[0] * self.num_of_epochs) / self.batch_size)\n",
    "    \n",
    "    def create_mini_batch(self):\n",
    "        mini_X_train = np.zeros((self.batch_size, 96, 96, 1), dtype=np.float32)\n",
    "        mini_y_train = np.zeros((self.batch_size))\n",
    "        \n",
    "        # Verify there are enough examples left in dataset to fill minibatch, if not reset list of unused examples\n",
    "        if len(self.unused_y) < self.batch_size:\n",
    "            self.unused_y = list(range(len(self.y_train)))\n",
    "        half_batch = int(self.batch_size/2)\n",
    "        used_y = []\n",
    "        for i in range(half_batch):\n",
    "            chosen=False\n",
    "            while(not chosen):\n",
    "                pos = random.choice(self.unused_y)\n",
    "                if (self.y_train[pos] in used_y):\n",
    "                    continue\n",
    "                mini_X_train[i] = self.X_train[pos]\n",
    "                mini_y_train[i] = self.y_train[pos]\n",
    "                if (pos != 6930) and (self.y_train[pos] == self.y_train[pos+1]):\n",
    "                    mini_X_train[i+half_batch] = self.X_train[pos+1]\n",
    "                    mini_y_train[i+half_batch] = self.y_train[pos+1]\n",
    "                    chosen = True\n",
    "                elif (pos != 0) and (self.y_train[pos] == self.y_train[pos-1]):\n",
    "                    mini_X_train[i+half_batch] = self.X_train[pos-1]\n",
    "                    mini_y_train[i+half_batch] = self.y_train[pos-1]\n",
    "                    chosen = True\n",
    "            \n",
    "            # Once we used an exqmple, remove it from the \n",
    "            self.unused_y.remove(pos)\n",
    "            used_y.append(self.y_train[pos])\n",
    "        \n",
    "        return mini_X_train, mini_y_train"
   ]
  },
  {
   "cell_type": "markdown",
   "metadata": {},
   "source": [
    "# Classifier model working with 2 steps of training, classification and npairs. The model will then be used to extract a feature layer which will be compared with other layers."
   ]
  },
  {
   "cell_type": "code",
   "execution_count": null,
   "metadata": {
    "collapsed": true
   },
   "outputs": [],
   "source": [
    "class CombinedClassifier(tf.keras.Model):\n",
    "    def __init__(self, num_of_ids, loss_type=\"Class\", similarity_threshold=5, class_lr=0.5*1e-4, sim_lr=1e-3):\n",
    "        super().__init__()\n",
    "        self.loss_type = loss_type\n",
    "        self.similarity_threshold = similarity_threshold\n",
    "        self.num_of_ids = num_of_ids\n",
    "        self.flag_for_combined_loss = False\n",
    "        \n",
    "        # Conv layer 1 + Pooling\n",
    "        self.conv1a = tf.keras.layers.Conv2D(filters=32,\n",
    "                                            kernel_size=[4, 4],\n",
    "                                            strides=(1, 1),\n",
    "                                            padding='same',\n",
    "                                            activation=tf.nn.leaky_relu,\n",
    "                                            use_bias=True,\n",
    "                                            kernel_initializer=tf.contrib.layers.xavier_initializer_conv2d()\n",
    "                                           )\n",
    "        \n",
    "        self.pool1a = tf.keras.layers.MaxPool2D(pool_size=(2, 2),\n",
    "                                               strides=(2, 2),\n",
    "                                               padding='valid'\n",
    "                                              )\n",
    "        \n",
    "        # Conv layer 2 + Pooling\n",
    "        self.conv2a = tf.keras.layers.Conv2D(filters=16,\n",
    "                                            kernel_size=[3, 3],\n",
    "                                            strides=(1, 1),\n",
    "                                            padding='same',\n",
    "                                            activation=tf.nn.leaky_relu,\n",
    "                                            use_bias=True,\n",
    "                                            kernel_initializer=tf.contrib.layers.xavier_initializer_conv2d()\n",
    "                                           )\n",
    "        \n",
    "        self.pool2a = tf.keras.layers.MaxPool2D(pool_size=(2, 2),\n",
    "                                               strides=(2, 2),\n",
    "                                               padding='valid'\n",
    "                                              )\n",
    "        \n",
    "        # Conv layer 3 + Pooling\n",
    "        self.conv3a = tf.keras.layers.Conv2D(filters=16,\n",
    "                                            kernel_size=[3, 3],\n",
    "                                            strides=(1, 1),\n",
    "                                            padding='same',\n",
    "                                            activation=tf.nn.leaky_relu,\n",
    "                                            use_bias=True,\n",
    "                                            kernel_initializer=tf.contrib.layers.xavier_initializer_conv2d()\n",
    "                                           )\n",
    "        \n",
    "        self.pool3a = tf.keras.layers.MaxPool2D(pool_size=(2, 2),\n",
    "                                               strides=(2, 2),\n",
    "                                               padding='valid'\n",
    "                                              )\n",
    "        \n",
    "        # Dense output layer, also used as a feature exxtrction layer\n",
    "        self.fc1a = tf.keras.layers.Dense(1024, activation=None)\n",
    "        self.fc1a_act = tf.keras.layers.Activation(activation=tf.nn.relu)\n",
    "        \n",
    "        # Dropout layer\n",
    "        self.dropout = tf.keras.layers.Dropout(rate=0.2)\n",
    "        \n",
    "        # Dense layer for classes\n",
    "        self.fc2a = tf.keras.layers.Dense(num_of_ids)\n",
    "        \n",
    "        # Optimizers\n",
    "        self.optimizer1 = tf.train.AdamOptimizer(learning_rate=class_lr)\n",
    "        self.optimizer2 = tf.train.AdamOptimizer(learning_rate=sim_lr, beta1=0.85)\n",
    "        \n",
    "    def call(self, inputs, training=True, **kwargs):\n",
    "        half_batch_size = int(int(inputs.shape[0]) / 2)\n",
    "        batch_size = int(half_batch_size * 2)\n",
    "        \n",
    "        # Input Layer\n",
    "        input_layer = tf.reshape(inputs, [-1, 96, 96, 1])\n",
    "        \n",
    "        # Network forward flow\n",
    "        x1 = self.conv1a(input_layer)\n",
    "        x1 = self.pool1a(x1)\n",
    "        x1 = self.conv2a(x1)\n",
    "        x1 = self.pool2a(x1)\n",
    "        x1 = self.conv3a(x1)\n",
    "        x1 = self.pool3a(x1)\n",
    "        x1 = tf.reshape(x1, [x1.shape[0], -1])\n",
    "        x1_id_layer = self.fc1a(x1)\n",
    "        x1_id_layer_act = self.fc1a_act(x1_id_layer)\n",
    "        \n",
    "        # If we are training for classification loss, use dropout.\n",
    "        if (training):\n",
    "            if self.loss_type is \"Class\":\n",
    "                x1_dropout = self.dropout(x1_id_layer_act)\n",
    "                x1_logits = self.fc2a(x1_dropout)\n",
    "            else:\n",
    "                x1_logits = self.fc2a(x1_id_layer_act)\n",
    "                \n",
    "            # Get L2 distances between image \"couples\"\n",
    "            distances = tf.reduce_mean((x1_id_layer[0:half_batch_size] - x1_id_layer[half_batch_size:batch_size])**2, axis=1)\n",
    "\n",
    "        else:\n",
    "            x1_logits = self.fc2a(x1_id_layer_act)\n",
    "            distances = 0\n",
    "\n",
    "        \n",
    "        return x1_logits, x1_id_layer, distances \n",
    "    \n",
    "    def loss(self, logits1, labels1, x1_id_layer, batch_size):        \n",
    "        half_batch_size = int(batch_size / 2)\n",
    "        \n",
    "        # Just to make sure that both halves are equal\n",
    "        batch_size = int(half_batch_size * 2)\n",
    "        \n",
    "        # Calculate losses according to classification requirments and comparison requirement\n",
    "        # Loss 1: classification requirement\n",
    "        onehot_labels = tf.one_hot(indices=tf.cast(labels1, tf.int32), depth = num_of_ids)\n",
    "        loss_1 = tf.losses.softmax_cross_entropy(onehot_labels, logits1)\n",
    "            \n",
    "        # Loss 2: npairs loss\n",
    "        gt_labels = tf.convert_to_tensor(labels1[0:half_batch_size])\n",
    "        \n",
    "        anchors = tf.convert_to_tensor(x1_id_layer[0:half_batch_size])\n",
    "        positives = tf.convert_to_tensor(x1_id_layer[half_batch_size:batch_size])\n",
    "        loss_2 = tf.contrib.losses.metric_learning.npairs_loss(labels=gt_labels,\n",
    "                                                                    embeddings_anchor=anchors,\n",
    "                                                                    embeddings_positive=positives,\n",
    "                                                                    reg_lambda=1e-5)\n",
    "        return loss_1, loss_2\n",
    "    \n",
    "    def optimize(self, inputs, labels):\n",
    "        with tf.GradientTape(persistent=True) as tape:\n",
    "            x1_logits, x1_id_layer, distances = self(inputs)\n",
    "            loss_1, loss_2 = self.loss(x1_logits, labels, x1_id_layer, int(inputs.shape[0]))\n",
    "        \n",
    "        # Apply gradinets according totraining phase we are in\n",
    "        if self.loss_type is \"Class\":\n",
    "            gradients = tape.gradient(loss_1, self.variables)\n",
    "            self.optimizer1.apply_gradients(zip(gradients, self.variables))\n",
    "        if self.loss_type is \"Similarity\":\n",
    "            # For similarity training apply gradients only to the fc1a layer\n",
    "            gradients = tape.gradient(loss_2, self.variables[6:8])\n",
    "            self.optimizer2.apply_gradients(zip(gradients, self.variables[6:8]))\n",
    "            \n",
    "        del(tape)\n",
    "        return loss_1, loss_2\n",
    "    \n",
    "    def test(self, inputs, labels, similarity_test=False, training_set=False, debug_print=False, thresh=1):\n",
    "        x1_logits, x1_id_layer, distance = self(inputs, training=False)\n",
    "        test_class_1, test_class_2, test_compare = 0, 0, 0\n",
    "        \n",
    "        # Scores for predecting image labels\n",
    "        pred_labels = tf.argmax(x1_logits, axis=-1)\n",
    "        pred_labels = tf.cast(pred_labels, tf.float64)\n",
    "        label_acc = tf.reduce_mean(tf.cast(tf.equal(pred_labels, labels), tf.float32))\n",
    "        \n",
    "        # Scores for the similarity test\n",
    "        correct, incorrect = 0, 0\n",
    "        similarity_acc = 0\n",
    "        sum_of_distances_for_sim, sum_of_distances_for_diff, sim_count, diff_count = 0, 0, 0, 0\n",
    "        sim_diff_ratio = 0\n",
    "        \n",
    "        size = int(inputs.shape[0]) if (int(inputs.shape[0]) % 2 == 0) else int(inputs.shape[0]) - 1\n",
    "        \n",
    "        if (similarity_test):\n",
    "            # Training and validation set have different structures so testing method is split into 2 options\n",
    "            if (training_set):\n",
    "                for i in range(0, int(size/2)):\n",
    "                    id_1 = tf.reshape(x1_id_layer[i], (1, 1024))\n",
    "                    id_2 = tf.reshape(x1_id_layer[int(size/2) + i], (1024, 1))\n",
    "                    score = np.tensordot(id_1, id_2)\n",
    "                    if int(labels[i]) == int(labels[int(size/2) + i]):\n",
    "                        if score > thresh:\n",
    "                            correct +=1\n",
    "                        else:\n",
    "                            incorrect +=1\n",
    "                    else:\n",
    "                        if score < thresh:\n",
    "                            correct +=1\n",
    "                        else:\n",
    "                            incorrect +=1\n",
    "            else:\n",
    "                for i in range(0, size, 2):\n",
    "                    id_1 = tf.reshape(x1_id_layer[i], (1, 1024))\n",
    "                    id_2 = tf.reshape(x1_id_layer[i + 1], (1, 1024))\n",
    "                    score = np.tensordot(id_1, id_2)\n",
    "                    if int(labels[i]) == int(labels[i + 1]):\n",
    "                        sum_of_distances_for_sim += score\n",
    "                        sim_count += 1\n",
    "                        if score > thresh:\n",
    "                            if(debug_print):\n",
    "                                print(\"Got similar pics correct: score = {} thresh = {}\".format(score, thresh))\n",
    "                            correct +=1\n",
    "                        else:\n",
    "                            if(debug_print):\n",
    "                                print(\"Got similar pics wrong: score = {} thresh = {}\".format(score, thresh))\n",
    "                            incorrect +=1\n",
    "                    else:\n",
    "                        sum_of_distances_for_diff += score\n",
    "                        diff_count += 1\n",
    "                        if score < thresh:\n",
    "                            if(debug_print):\n",
    "                                print(\"Got different pics correct: score = {} thresh = {}\".format(score, thresh))\n",
    "                            correct +=1\n",
    "                        else:\n",
    "                            if(debug_print):\n",
    "                                print(\"Got different pics wrong: score = {} thresh = {}\".format(score, thresh))\n",
    "                            incorrect +=1\n",
    "                distance_average_sim = sum_of_distances_for_sim/sim_count\n",
    "                distance_average_diff = sum_of_distances_for_diff/diff_count\n",
    "                # sim_diff_ratio is the ration of differences between distances predicted for similar pairs and the \n",
    "                # distacnes predicted for different pairs. The lower the difference the better the model will differ between\n",
    "                # similar and different images\n",
    "                sim_diff_ratio = distance_average_sim/distance_average_diff\n",
    "                            \n",
    "            # similarity_acc is the percantage of correct predictions\n",
    "            similarity_acc = correct/(correct + incorrect)\n",
    "            \n",
    "        return label_acc, similarity_acc, sim_diff_ratio\n",
    "        \n"
   ]
  },
  {
   "cell_type": "markdown",
   "metadata": {},
   "source": [
    "# Phase 1: Train using classification loss"
   ]
  },
  {
   "cell_type": "code",
   "execution_count": 17,
   "metadata": {},
   "outputs": [
    {
     "name": "stdout",
     "output_type": "stream",
     "text": [
      "[29.12|22:13:46] Step 0: classification loss: 6.555204\n",
      "[29.12|22:13:54] Step 50: classification loss: 4.297305\n",
      "[29.12|22:14:02] EVAL SET: Step 100: classification accuracy: 0.552239\n",
      "[29.12|22:14:03] TRAIN SET: Step 100: classification accuracy: 0.712000\n",
      "[29.12|22:14:03] Step 100: classification loss: 1.194985\n",
      "[29.12|22:14:11] Step 150: classification loss: 0.264032\n",
      "[29.12|22:14:19] EVAL SET: Step 200: classification accuracy: 0.649254\n",
      "[29.12|22:14:20] TRAIN SET: Step 200: classification accuracy: 0.972000\n",
      "[29.12|22:14:20] Step 200: classification loss: 0.117675\n",
      "[29.12|22:14:28] Step 250: classification loss: 0.037147\n",
      "[29.12|22:14:36] EVAL SET: Step 300: classification accuracy: 0.712687\n",
      "[29.12|22:14:36] TRAIN SET: Step 300: classification accuracy: 1.000000\n",
      "[29.12|22:14:37] Step 300: classification loss: 0.006358\n",
      "[29.12|22:14:45] Step 350: classification loss: 0.001452\n",
      "[29.12|22:14:53] EVAL SET: Step 400: classification accuracy: 0.723881\n",
      "[29.12|22:14:53] TRAIN SET: Step 400: classification accuracy: 1.000000\n",
      "[29.12|22:14:53] Step 400: classification loss: 0.000729\n",
      "[29.12|22:15:02] Step 450: classification loss: 0.000298\n",
      "[29.12|22:15:10] EVAL SET: Step 500: classification accuracy: 0.720149\n",
      "[29.12|22:15:10] TRAIN SET: Step 500: classification accuracy: 1.000000\n",
      "[29.12|22:15:10] Step 500: classification loss: 0.000202\n",
      "[29.12|22:15:18] Step 550: classification loss: 0.000251\n",
      "[29.12|22:15:27] EVAL SET: Step 600: classification accuracy: 0.720149\n",
      "[29.12|22:15:27] TRAIN SET: Step 600: classification accuracy: 1.000000\n",
      "[29.12|22:15:27] Step 600: classification loss: 0.000173\n",
      "[29.12|22:15:35] Step 650: classification loss: 0.000121\n",
      "[29.12|22:15:43] EVAL SET: Step 700: classification accuracy: 0.720149\n",
      "[29.12|22:15:43] TRAIN SET: Step 700: classification accuracy: 1.000000\n",
      "[29.12|22:15:43] Step 700: classification loss: 0.000086\n",
      "[29.12|22:15:52] Step 750: classification loss: 0.000124\n",
      "[29.12|22:16:00] EVAL SET: Step 800: classification accuracy: 0.720149\n",
      "[29.12|22:16:00] TRAIN SET: Step 800: classification accuracy: 1.000000\n",
      "[29.12|22:16:00] Step 800: classification loss: 0.000120\n"
     ]
    }
   ],
   "source": [
    "num_of_ids = len(subject_list)\n",
    "# Metrics to save\n",
    "loss1_val = []\n",
    "loss_step = []\n",
    "acc_val = []\n",
    "sim_val = []\n",
    "acc_train = []\n",
    "sim_train = []\n",
    "evaluation_step = []\n",
    "best_score = 0\n",
    "\n",
    "# Globals affecting logging and evaluation frequency\n",
    "STEP_SIZE_LOSS = 50\n",
    "STEP_SIZE_EVALUATE = 100\n",
    "\n",
    "batch_size = 250\n",
    "num_of_epochs = 30\n",
    "\n",
    "dataset = Dataset(data_dict['X_train'], data_dict['y_train'], batch_size, num_of_epochs)\n",
    "with tf.device(\"/device:GPU:0\"):\n",
    "    model = CombinedClassifier(num_of_ids=num_of_ids, loss_type=\"Class\", class_lr=1e-3)\n",
    "    for step in range(dataset.steps):\n",
    "        batch_x, batch_y = dataset.create_mini_batch()\n",
    "        if (step % STEP_SIZE_EVALUATE == 0 and step != 0):\n",
    "            \n",
    "            # Evaluate on validation set\n",
    "            accuracy, _, _ = model.test(data_dict['X_eval'], data_dict['y_eval'])\n",
    "            print('[{0}] {1}'.format(datetime.now().strftime('%d.%m|%H:%M:%S'),\n",
    "                                     \"EVAL SET: Step %d: classification accuracy: %f\" % (step, accuracy)))\n",
    "            acc_val.append(accuracy)\n",
    "            sim_val.append(sim)\n",
    "            evaluation_step.append(step)\n",
    "            if (accuracy > best_score):\n",
    "                model.save_weights('cpt/cpt_%s' % step)\n",
    "                name_save = ('cpt/cpt_%s' % step)\n",
    "                best_score = accuracy\n",
    "            \n",
    "            # Evaluate on training set\n",
    "            accuracy, _, _ = model.test(batch_x, batch_y)\n",
    "            print('[{0}] {1}'.format(datetime.now().strftime('%d.%m|%H:%M:%S'),\n",
    "                                     \"TRAIN SET: Step %d: classification accuracy: %f\" % (step, accuracy)))\n",
    "            acc_train.append(accuracy)\n",
    "            sim_train.append(sim)\n",
    "            \n",
    "        # Train\n",
    "        loss1, loss2 = model.optimize(batch_x, batch_y)\n",
    "        loss1_val.append(loss1)\n",
    "        loss_step.append(step)\n",
    "        \n",
    "        if (step % STEP_SIZE_LOSS == 0):\n",
    "            print('[{0}] {1}'.format(datetime.now().strftime('%d.%m|%H:%M:%S'),\n",
    "                                     \"Step %d: classification loss: %f\" % (step, loss1)))\n",
    "        \n",
    "    "
   ]
  },
  {
   "cell_type": "markdown",
   "metadata": {},
   "source": [
    "## Classification loss"
   ]
  },
  {
   "cell_type": "code",
   "execution_count": 18,
   "metadata": {},
   "outputs": [
    {
     "data": {
      "image/png": "[encoded data removed]",
      "text/plain": [
       "<Figure size 432x288 with 1 Axes>"
      ]
     },
     "metadata": {
      "needs_background": "light"
     },
     "output_type": "display_data"
    }
   ],
   "source": [
    "plot.title('Classification loss as number of steps')\n",
    "plot.plot(loss_step, loss1_val, 'r')\n",
    "plot.show()"
   ]
  },
  {
   "cell_type": "markdown",
   "metadata": {},
   "source": [
    "## Classification accuracy"
   ]
  },
  {
   "cell_type": "code",
   "execution_count": 19,
   "metadata": {},
   "outputs": [
    {
     "data": {
      "image/png": "[encoded data removed]",
      "text/plain": [
       "<Figure size 432x288 with 1 Axes>"
      ]
     },
     "metadata": {
      "needs_background": "light"
     },
     "output_type": "display_data"
    }
   ],
   "source": [
    "plot.plot(evaluation_step, acc_val, label='Evaluation set classification accuracy')\n",
    "plot.plot(evaluation_step, acc_train, label='Training set classification accuracy')\n",
    "plot.legend()\n",
    "plot.show()"
   ]
  },
  {
   "cell_type": "code",
   "execution_count": 43,
   "metadata": {
    "collapsed": true
   },
   "outputs": [],
   "source": [
    "def get_best_score(model):\n",
    "    best_sim=0\n",
    "    threshs = np.arange(1000, 10000, 500)\n",
    "    for i in threshs:\n",
    "        _, sim, _ = model.test(data_dict['X_eval'], data_dict['y_eval'], similarity_test=True, thresh=i)\n",
    "        if (sim >= best_sim):\n",
    "            best_sim = sim\n",
    "            best_thresh = i\n",
    "    return (best_sim, best_thresh)"
   ]
  },
  {
   "cell_type": "markdown",
   "metadata": {},
   "source": [
    "# Phase 2: train using npairs loss"
   ]
  },
  {
   "cell_type": "code",
   "execution_count": 44,
   "metadata": {},
   "outputs": [
    {
     "name": "stdout",
     "output_type": "stream",
     "text": [
      "[29.12|22:44:35] Step 0: npairs loss: 12190.788086\n",
      "[29.12|22:44:44] Step 100: npairs loss: 1627.297852\n",
      "[29.12|22:44:53] Step 200: npairs loss: 969.502991\n",
      "[29.12|22:45:02] Step 300: npairs loss: 872.321045\n",
      "[29.12|22:45:12] Step 400: npairs loss: 451.049377\n",
      "[29.12|22:45:23] EVAL SET: Step 500: similarity accuracy: 0.805970\n",
      "[29.12|22:45:24] Step 500: npairs loss: 347.718628\n",
      "[29.12|22:45:33] Step 600: npairs loss: 404.567871\n",
      "[29.12|22:45:42] Step 700: npairs loss: 318.528137\n",
      "[29.12|22:45:51] Step 800: npairs loss: 272.672302\n",
      "[29.12|22:46:00] Step 900: npairs loss: 101.109329\n",
      "[29.12|22:46:12] EVAL SET: Step 1000: similarity accuracy: 0.828358\n",
      "[29.12|22:46:13] Step 1000: npairs loss: 91.435623\n",
      "[29.12|22:46:22] Step 1100: npairs loss: 187.947372\n",
      "[29.12|22:46:31] Step 1200: npairs loss: 206.297104\n",
      "[29.12|22:46:40] Step 1300: npairs loss: 98.606743\n",
      "[29.12|22:46:49] Step 1400: npairs loss: 40.728302\n",
      "[29.12|22:47:01] EVAL SET: Step 1500: similarity accuracy: 0.820896\n",
      "[29.12|22:47:01] Step 1500: npairs loss: 135.300018\n",
      "[29.12|22:47:10] Step 1600: npairs loss: 151.971268\n",
      "[29.12|22:47:19] Step 1700: npairs loss: 101.297707\n",
      "[29.12|22:47:28] Step 1800: npairs loss: 57.998676\n",
      "[29.12|22:47:37] Step 1900: npairs loss: 26.522861\n",
      "[29.12|22:47:49] EVAL SET: Step 2000: similarity accuracy: 0.835821\n",
      "[29.12|22:47:50] Step 2000: npairs loss: 52.157597\n",
      "[29.12|22:47:59] Step 2100: npairs loss: 13.580710\n",
      "[29.12|22:48:08] Step 2200: npairs loss: 41.882538\n",
      "[29.12|22:48:17] Step 2300: npairs loss: 56.454124\n",
      "[29.12|22:48:26] Step 2400: npairs loss: 8.377998\n",
      "[29.12|22:48:38] EVAL SET: Step 2500: similarity accuracy: 0.828358\n",
      "[29.12|22:48:38] Step 2500: npairs loss: 30.045084\n",
      "[29.12|22:48:47] Step 2600: npairs loss: 30.787519\n",
      "[29.12|22:48:56] Step 2700: npairs loss: 12.674028\n",
      "[29.12|22:49:05] Step 2800: npairs loss: 9.023215\n",
      "[29.12|22:49:15] Step 2900: npairs loss: 17.913618\n",
      "[29.12|22:49:26] EVAL SET: Step 3000: similarity accuracy: 0.843284\n",
      "[29.12|22:49:27] Step 3000: npairs loss: 20.761759\n",
      "[29.12|22:49:36] Step 3100: npairs loss: 10.556746\n",
      "[29.12|22:49:45] Step 3200: npairs loss: 5.560190\n",
      "[29.12|22:49:54] Step 3300: npairs loss: 8.652178\n",
      "[29.12|22:50:03] Step 3400: npairs loss: 12.547236\n",
      "[29.12|22:50:15] EVAL SET: Step 3500: similarity accuracy: 0.828358\n",
      "[29.12|22:50:15] Step 3500: npairs loss: 19.841188\n",
      "[29.12|22:50:24] Step 3600: npairs loss: 2.276808\n",
      "[29.12|22:50:34] Step 3700: npairs loss: 2.486765\n",
      "[29.12|22:50:43] Step 3800: npairs loss: 2.920650\n",
      "[29.12|22:50:52] Step 3900: npairs loss: 5.957760\n",
      "[29.12|22:51:04] EVAL SET: Step 4000: similarity accuracy: 0.813433\n",
      "[29.12|22:51:04] Step 4000: npairs loss: 4.893607\n",
      "[29.12|22:51:13] Step 4100: npairs loss: 14.153770\n",
      "[29.12|22:51:22] Step 4200: npairs loss: 0.681277\n",
      "[29.12|22:51:31] Step 4300: npairs loss: 4.970695\n",
      "[29.12|22:51:40] Step 4400: npairs loss: 4.784918\n",
      "[29.12|22:51:52] EVAL SET: Step 4500: similarity accuracy: 0.828358\n",
      "[29.12|22:51:52] Step 4500: npairs loss: 0.021451\n",
      "[29.12|22:52:02] Step 4600: npairs loss: 5.841136\n",
      "[29.12|22:52:11] Step 4700: npairs loss: 7.895780\n",
      "[29.12|22:52:20] Step 4800: npairs loss: 1.124991\n",
      "[29.12|22:52:29] Step 4900: npairs loss: 9.726935\n",
      "[29.12|22:52:41] EVAL SET: Step 5000: similarity accuracy: 0.828358\n",
      "[29.12|22:52:41] Step 5000: npairs loss: 3.251494\n",
      "[29.12|22:52:50] Step 5100: npairs loss: 12.661574\n",
      "[29.12|22:52:59] Step 5200: npairs loss: 1.249668\n",
      "[29.12|22:53:08] Step 5300: npairs loss: 2.797858\n",
      "[29.12|22:53:17] Step 5400: npairs loss: 0.020817\n",
      "[29.12|22:53:29] EVAL SET: Step 5500: similarity accuracy: 0.850746\n",
      "[29.12|22:53:30] Step 5500: npairs loss: 4.504996\n",
      "[29.12|22:53:39] Step 5600: npairs loss: 6.038303\n",
      "[29.12|22:53:48] Step 5700: npairs loss: 1.389978\n",
      "[29.12|22:53:57] Step 5800: npairs loss: 11.134524\n",
      "[29.12|22:54:06] Step 5900: npairs loss: 4.801165\n",
      "[29.12|22:54:18] EVAL SET: Step 6000: similarity accuracy: 0.820896\n",
      "[29.12|22:54:18] Step 6000: npairs loss: 4.105282\n",
      "[29.12|22:54:27] Step 6100: npairs loss: 3.669765\n",
      "[29.12|22:54:36] Step 6200: npairs loss: 1.969084\n",
      "[29.12|22:54:45] Step 6300: npairs loss: 2.338767\n",
      "[29.12|22:54:54] Step 6400: npairs loss: 1.654065\n",
      "[29.12|22:55:06] EVAL SET: Step 6500: similarity accuracy: 0.813433\n",
      "[29.12|22:55:06] Step 6500: npairs loss: 3.197998\n",
      "[29.12|22:55:15] Step 6600: npairs loss: 4.063350\n",
      "[29.12|22:55:25] Step 6700: npairs loss: 4.521804\n",
      "[29.12|22:55:34] Step 6800: npairs loss: 1.701248\n",
      "[29.12|22:55:43] Step 6900: npairs loss: 0.018287\n",
      "[29.12|22:55:55] EVAL SET: Step 7000: similarity accuracy: 0.798507\n",
      "[29.12|22:55:55] Step 7000: npairs loss: 1.836840\n",
      "[29.12|22:56:04] Step 7100: npairs loss: 11.080914\n",
      "[29.12|22:56:13] Step 7200: npairs loss: 0.018809\n",
      "[29.12|22:56:22] Step 7300: npairs loss: 0.564477\n",
      "[29.12|22:56:31] Step 7400: npairs loss: 0.899566\n",
      "[29.12|22:56:43] EVAL SET: Step 7500: similarity accuracy: 0.828358\n",
      "[29.12|22:56:43] Step 7500: npairs loss: 0.640784\n",
      "[29.12|22:56:52] Step 7600: npairs loss: 0.017671\n",
      "[29.12|22:57:01] Step 7700: npairs loss: 0.386485\n",
      "[29.12|22:57:10] Step 7800: npairs loss: 0.017946\n",
      "[29.12|22:57:20] Step 7900: npairs loss: 0.017908\n",
      "[29.12|22:57:31] EVAL SET: Step 8000: similarity accuracy: 0.805970\n",
      "[29.12|22:57:31] Step 8000: npairs loss: 0.017788\n",
      "[29.12|22:57:41] Step 8100: npairs loss: 0.018504\n",
      "[29.12|22:57:50] Step 8200: npairs loss: 0.018885\n",
      "[29.12|22:57:59] Step 8300: npairs loss: 1.911546\n",
      "[29.12|22:58:08] Step 8400: npairs loss: 1.746882\n",
      "[29.12|22:58:20] EVAL SET: Step 8500: similarity accuracy: 0.820896\n",
      "[29.12|22:58:20] Step 8500: npairs loss: 1.681504\n",
      "[29.12|22:58:29] Step 8600: npairs loss: 0.018456\n",
      "[29.12|22:58:38] Step 8700: npairs loss: 1.644232\n",
      "[29.12|22:58:47] Step 8800: npairs loss: 0.016920\n",
      "[29.12|22:58:56] Step 8900: npairs loss: 0.075861\n",
      "[29.12|22:59:08] EVAL SET: Step 9000: similarity accuracy: 0.783582\n",
      "[29.12|22:59:08] Step 9000: npairs loss: 0.249687\n",
      "[29.12|22:59:17] Step 9100: npairs loss: 2.013224\n",
      "[29.12|22:59:26] Step 9200: npairs loss: 3.248456\n",
      "[29.12|22:59:35] Step 9300: npairs loss: 1.535011\n",
      "[29.12|22:59:44] Step 9400: npairs loss: 1.857877\n",
      "[29.12|22:59:56] EVAL SET: Step 9500: similarity accuracy: 0.798507\n",
      "[29.12|22:59:56] Step 9500: npairs loss: 3.921573\n",
      "[29.12|23:00:05] Step 9600: npairs loss: 4.224601\n",
      "[29.12|23:00:15] Step 9700: npairs loss: 3.335375\n",
      "[29.12|23:00:24] Step 9800: npairs loss: 0.017061\n",
      "[29.12|23:00:33] Step 9900: npairs loss: 1.058240\n",
      "[29.12|23:00:45] EVAL SET: Step 10000: similarity accuracy: 0.805970\n",
      "[29.12|23:00:45] Step 10000: npairs loss: 0.019071\n",
      "[29.12|23:00:54] Step 10100: npairs loss: 0.018138\n",
      "[29.12|23:01:03] Step 10200: npairs loss: 0.972766\n",
      "[29.12|23:01:12] Step 10300: npairs loss: 0.018196\n",
      "[29.12|23:01:21] Step 10400: npairs loss: 0.017427\n",
      "[29.12|23:01:33] EVAL SET: Step 10500: similarity accuracy: 0.798507\n",
      "[29.12|23:01:33] Step 10500: npairs loss: 1.137335\n",
      "[29.12|23:01:42] Step 10600: npairs loss: 1.471995\n",
      "[29.12|23:01:51] Step 10700: npairs loss: 3.052419\n",
      "[29.12|23:02:01] Step 10800: npairs loss: 1.183387\n"
     ]
    }
   ],
   "source": [
    "num_of_ids = len(subject_list)\n",
    "\n",
    "#Metrics to save\n",
    "loss2_val = []\n",
    "loss_step = []\n",
    "acc_val = []\n",
    "sim_val = []\n",
    "acc_train = []\n",
    "sim_train = []\n",
    "evaluation_step = []\n",
    "\n",
    "# Globals affecting logging and evaluation frequency\n",
    "STEP_SIZE_LOSS = 100\n",
    "STEP_SIZE_EVALUATE = 500\n",
    "best_sim = 0\n",
    "\n",
    "batch_size = 128\n",
    "num_of_epochs = 200\n",
    "dataset = Dataset(data_dict['X_train'], data_dict['y_train'], batch_size, num_of_epochs)\n",
    "with tf.device(\"/device:GPU:0\"):\n",
    "    model = CombinedClassifier(num_of_ids=num_of_ids, loss_type=\"Similarity\", similarity_threshold=100, sim_lr=1e-4)\n",
    "    model.load_weights(name_save)\n",
    "    \n",
    "    for step in range(dataset.steps):\n",
    "        batch_x, batch_y = dataset.create_mini_batch()\n",
    "        if (step % STEP_SIZE_EVALUATE == 0 and step != 0):          \n",
    "            # Evaluate on validation set\n",
    "            sim, th = get_best_score(model)\n",
    "            print('[{0}] {1}'.format(datetime.now().strftime('%d.%m|%H:%M:%S'),\n",
    "                                     \"EVAL SET: Step %d: similarity accuracy: %f\" % (step, sim)))\n",
    "            \n",
    "            sim_val.append(sim)\n",
    "            evaluation_step.append(step)\n",
    "            if (sim > best_sim):\n",
    "                model.save_weights('cpt/cpt_sim_npairs')\n",
    "                best_sim = sim\n",
    "                best_thresh = th       \n",
    "        \n",
    "        loss1, loss2 = model.optimize(batch_x, batch_y)\n",
    "        loss2_val.append(loss2)\n",
    "        loss_step.append(step)\n",
    "        \n",
    "        if (step % STEP_SIZE_LOSS == 0):\n",
    "            print('[{0}] {1}'.format(datetime.now().strftime('%d.%m|%H:%M:%S'),\n",
    "                                     \"Step %d: npairs loss: %f\" % (step, loss2)))\n"
   ]
  },
  {
   "cell_type": "code",
   "execution_count": 47,
   "metadata": {},
   "outputs": [
    {
     "name": "stdout",
     "output_type": "stream",
     "text": [
      "Summary for similarity: similarity accuracy = 0.8507462686567164, sim diff ratio = 0.2870623970266448\n"
     ]
    }
   ],
   "source": [
    "model = CombinedClassifier(num_of_ids=num_of_ids, loss_type=\"Similarity\", similarity_threshold=100)\n",
    "model.load_weights('cpt/cpt_sim_npairs')\n",
    "_, sim, ratio = model.test(data_dict['X_eval'], data_dict['y_eval'], similarity_test=True, thresh=best_thresh)\n",
    "print(\"Summary for similarity: similarity accuracy = {}, sim diff ratio = {}\".format(sim, 1/ratio))"
   ]
  },
  {
   "cell_type": "markdown",
   "metadata": {},
   "source": [
    "## npairs Loss "
   ]
  },
  {
   "cell_type": "code",
   "execution_count": 30,
   "metadata": {},
   "outputs": [
    {
     "data": {
      "image/png": "[encoded data removed]",
      "text/plain": [
       "<Figure size 432x288 with 1 Axes>"
      ]
     },
     "metadata": {
      "needs_background": "light"
     },
     "output_type": "display_data"
    }
   ],
   "source": [
    "plot.title('Contrastive loss as number of steps')\n",
    "plot.plot(loss_step, loss2_val, 'r')\n",
    "plot.show()"
   ]
  },
  {
   "cell_type": "markdown",
   "metadata": {},
   "source": [
    "## Evaluation for similarity check"
   ]
  },
  {
   "cell_type": "code",
   "execution_count": 48,
   "metadata": {},
   "outputs": [
    {
     "data": {
      "image/png": "[encoded data removed]",
      "text/plain": [
       "<Figure size 432x288 with 1 Axes>"
      ]
     },
     "metadata": {
      "needs_background": "light"
     },
     "output_type": "display_data"
    }
   ],
   "source": [
    "plot.plot(evaluation_step, sim_val, label='Evaluation set similarity accuracy')\n",
    "plot.legend()\n",
    "plot.show()"
   ]
  },
  {
   "cell_type": "markdown",
   "metadata": {
    "collapsed": true
   },
   "source": [
    "### Summary:accuracy=85.1%, sim diff ratio=0.28"
   ]
  },
  {
   "cell_type": "markdown",
   "metadata": {
    "collapsed": true
   },
   "source": [
    "### It looks like this model scores the best score, yet while training it is a bit not stable and seems at some point to overfit. In addition when running this in the app, we seem to get unstable results. This might be due to fine tuning requirments in the app. We might want to compare images to more than 1 photo in the app to give a smoother score."
   ]
  },
  {
   "cell_type": "code",
   "execution_count": null,
   "metadata": {
    "collapsed": true
   },
   "outputs": [],
   "source": []
  }
 ],
 "metadata": {
  "kernelspec": {
   "display_name": "Python 3",
   "language": "python",
   "name": "python3"
  },
  "language_info": {
   "codemirror_mode": {
    "name": "ipython",
    "version": 3
   },
   "file_extension": ".py",
   "mimetype": "text/x-python",
   "name": "python",
   "nbconvert_exporter": "python",
   "pygments_lexer": "ipython3",
   "version": "3.6.5"
  }
 },
 "nbformat": 4,
 "nbformat_minor": 2
}
