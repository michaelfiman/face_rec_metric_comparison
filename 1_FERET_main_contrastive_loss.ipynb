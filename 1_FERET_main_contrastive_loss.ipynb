{
 "cells": [
  {
   "cell_type": "markdown",
   "metadata": {},
   "source": [
    "# Environment settings"
   ]
  },
  {
   "cell_type": "code",
   "execution_count": 1,
   "metadata": {
    "collapsed": true
   },
   "outputs": [],
   "source": [
    "%load_ext autoreload\n",
    "%autoreload 2\n",
    "%matplotlib inline\n",
    "\n",
    "import numpy as np\n",
    "import random\n",
    "from feret_utils import get_feret_files_and_tags_dict, run_face_detection, create_dataset, create_dataset_gs\n",
    "from matplotlib.pyplot import imshow\n",
    "from matplotlib import pyplot as plot\n",
    "from IPython.display import Image\n",
    "import cv2 as cv\n",
    "import tensorflow as tf\n",
    "import scipy\n",
    "from datetime import datetime\n",
    "import pickle\n",
    "tfe = tf.contrib.eager"
   ]
  },
  {
   "cell_type": "code",
   "execution_count": 2,
   "metadata": {},
   "outputs": [
    {
     "name": "stdout",
     "output_type": "stream",
     "text": [
      "1.12.0\n"
     ]
    }
   ],
   "source": [
    "# Set tf basic settings\n",
    "print(tf.__version__)\n",
    "tf.logging.set_verbosity(tf.logging.INFO)\n",
    "tf.enable_eager_execution()"
   ]
  },
  {
   "cell_type": "markdown",
   "metadata": {},
   "source": [
    "# Import precreated pickle file with dataset info"
   ]
  },
  {
   "cell_type": "code",
   "execution_count": 3,
   "metadata": {
    "collapsed": true
   },
   "outputs": [],
   "source": [
    "import pickle\n",
    "# Unpickle data_dict holding the training and evaluation examples after performing data augmentation and regulerization\n",
    "with open('feret_data_dict_gs.pickle', 'rb') as handle:\n",
    "    subject_list, data_dict, mean_image, std_image = pickle.load(handle)"
   ]
  },
  {
   "cell_type": "markdown",
   "metadata": {},
   "source": [
    "# Class to manage dataset minibatch structures for comparisson test"
   ]
  },
  {
   "cell_type": "code",
   "execution_count": 4,
   "metadata": {
    "collapsed": true
   },
   "outputs": [],
   "source": [
    "# One of the main issues in training this dataset for similarity between faces is that choosing random image \"couples\" for\n",
    "# comparison leads to most training batches having an average of ~1.5 similar \"couples\". And even worse, in many cases all\n",
    "# examples are of different \"couples\" which leads to an aggrssive training towards scoring big differences.\n",
    "# This class ensures having a higher rate of similars by radndommly choosing near by photos within the dataset.\n",
    "class Dataset():\n",
    "    def __init__(self, X_train, y_train, batch_size=100, num_of_epochs=10):\n",
    "        self.batch_size = batch_size - (batch_size % 2)\n",
    "        self.num_of_epochs = num_of_epochs\n",
    "        self.X_train = X_train\n",
    "        self.y_train = y_train\n",
    "        \n",
    "        # Hold a list of training examples we have not used yet which will be modified every time an example is used\n",
    "        self.unused_y = list(range(len(y_train)))\n",
    "        self.steps = int((X_train.shape[0] * self.num_of_epochs) / self.batch_size)\n",
    "    \n",
    "    def create_mini_batch(self):\n",
    "        mini_X_train = np.zeros((self.batch_size, 96, 96, 1), dtype=np.float32)\n",
    "        mini_y_train = np.zeros((self.batch_size))\n",
    "        \n",
    "        # Verify there are enough examples left in dataset to fill minibatch, if not reset list of unused examples\n",
    "        if len(self.unused_y) < self.batch_size:\n",
    "            self.unused_y = list(range(len(self.y_train)))\n",
    "        half_batch = int(self.batch_size/2)\n",
    "        for i in range(half_batch):\n",
    "            chosen = False\n",
    "            count = 0\n",
    "            while(not chosen):\n",
    "                if (count == 30):\n",
    "                    self.unused_y = list(range(len(self.y_train)))\n",
    "                if (i % 2 == 0):\n",
    "                    pos = random.choice(self.unused_y)\n",
    "                    mini_X_train[i] = self.X_train[pos]\n",
    "                    mini_y_train[i] = self.y_train[pos]\n",
    "                    pos2 = random.choice(self.unused_y)\n",
    "                    if (self.y_train[pos] != self.y_train[pos2]):\n",
    "                        mini_X_train[i+half_batch] = self.X_train[pos2]\n",
    "                        mini_y_train[i+half_batch] = self.y_train[pos2]\n",
    "                        chosen = True\n",
    "                    else:\n",
    "                        count += 1\n",
    "                else:\n",
    "                    pos = random.choice(self.unused_y)\n",
    "                    mini_X_train[i] = self.X_train[pos]\n",
    "                    mini_y_train[i] = self.y_train[pos]\n",
    "                    if (pos != 6930) and (self.y_train[pos] == self.y_train[pos+1]):\n",
    "                        mini_X_train[i+half_batch] = self.X_train[pos+1]\n",
    "                        mini_y_train[i+half_batch] = self.y_train[pos+1]\n",
    "                        chosen = True\n",
    "                    elif (pos != 0) and (self.y_train[pos] == self.y_train[pos-1]):\n",
    "                        mini_X_train[i+half_batch] = self.X_train[pos-1]\n",
    "                        mini_y_train[i+half_batch] = self.y_train[pos-1]\n",
    "                        chosen = True\n",
    "                    else:\n",
    "                        count += 1\n",
    "            \n",
    "            # Once we used an exqmple, remove it from the \n",
    "            self.unused_y.remove(pos)\n",
    "        return mini_X_train, mini_y_train"
   ]
  },
  {
   "cell_type": "markdown",
   "metadata": {},
   "source": [
    "# Classifier model working with 2 steps of training, classification and contrastive. The model will then be used to extract a feature layer which will be compared with other layers."
   ]
  },
  {
   "cell_type": "code",
   "execution_count": 5,
   "metadata": {
    "collapsed": true
   },
   "outputs": [],
   "source": [
    "class CombinedClassifier(tf.keras.Model):\n",
    "    def __init__(self, num_of_ids, loss_type=\"Class\", similarity_threshold=5, class_lr=0.5*1e-4, sim_lr=1e-3):\n",
    "        super().__init__()\n",
    "        self.loss_type = loss_type\n",
    "        self.similarity_threshold = similarity_threshold\n",
    "        self.num_of_ids = num_of_ids\n",
    "        self.flag_for_combined_loss = False\n",
    "        \n",
    "        # Conv layer 1 + Pooling\n",
    "        self.conv1a = tf.keras.layers.Conv2D(filters=32,\n",
    "                                            kernel_size=[4, 4],\n",
    "                                            strides=(1, 1),\n",
    "                                            padding='same',\n",
    "                                            activation=tf.nn.leaky_relu,\n",
    "                                            use_bias=True,\n",
    "                                            kernel_initializer=tf.contrib.layers.xavier_initializer_conv2d()\n",
    "                                           )\n",
    "        \n",
    "        self.pool1a = tf.keras.layers.MaxPool2D(pool_size=(2, 2),\n",
    "                                               strides=(2, 2),\n",
    "                                               padding='valid'\n",
    "                                              )\n",
    "        \n",
    "        # Conv layer 2 + Pooling\n",
    "        self.conv2a = tf.keras.layers.Conv2D(filters=16,\n",
    "                                            kernel_size=[3, 3],\n",
    "                                            strides=(1, 1),\n",
    "                                            padding='same',\n",
    "                                            activation=tf.nn.leaky_relu,\n",
    "                                            use_bias=True,\n",
    "                                            kernel_initializer=tf.contrib.layers.xavier_initializer_conv2d()\n",
    "                                           )\n",
    "        \n",
    "        self.pool2a = tf.keras.layers.MaxPool2D(pool_size=(2, 2),\n",
    "                                               strides=(2, 2),\n",
    "                                               padding='valid'\n",
    "                                              )\n",
    "        \n",
    "        # Conv layer 3 + Pooling\n",
    "        self.conv3a = tf.keras.layers.Conv2D(filters=16,\n",
    "                                            kernel_size=[3, 3],\n",
    "                                            strides=(1, 1),\n",
    "                                            padding='same',\n",
    "                                            activation=tf.nn.leaky_relu,\n",
    "                                            use_bias=True,\n",
    "                                            kernel_initializer=tf.contrib.layers.xavier_initializer_conv2d()\n",
    "                                           )\n",
    "        \n",
    "        self.pool3a = tf.keras.layers.MaxPool2D(pool_size=(2, 2),\n",
    "                                               strides=(2, 2),\n",
    "                                               padding='valid'\n",
    "                                              )\n",
    "        \n",
    "        # Dense output layer, also used as a feature exxtrction layer\n",
    "        self.fc1a = tf.keras.layers.Dense(512, activation=None)\n",
    "        self.fc1a_act = tf.keras.layers.Activation(activation=tf.nn.relu)\n",
    "        \n",
    "        # Dropout layer\n",
    "        self.dropout = tf.keras.layers.Dropout(rate=0.2)\n",
    "        \n",
    "        # Dense layer for classes\n",
    "        self.fc2a = tf.keras.layers.Dense(num_of_ids)\n",
    "        \n",
    "        # Optimizers\n",
    "        self.optimizer1 = tf.train.AdamOptimizer(learning_rate=class_lr)\n",
    "        self.optimizer2 = tf.train.AdamOptimizer(learning_rate=sim_lr, beta1=0.85)\n",
    "        \n",
    "    def call(self, inputs, training=True, **kwargs):\n",
    "        half_batch_size = int(int(inputs.shape[0]) / 2)\n",
    "        batch_size = int(half_batch_size * 2)\n",
    "        \n",
    "        # Input Layer\n",
    "        input_layer = tf.reshape(inputs, [-1, 96, 96, 1])\n",
    "        \n",
    "        # Network forward flow\n",
    "        x1 = self.conv1a(input_layer)\n",
    "        x1 = self.pool1a(x1)\n",
    "        x1 = self.conv2a(x1)\n",
    "        x1 = self.pool2a(x1)\n",
    "        x1 = self.conv3a(x1)\n",
    "        x1 = self.pool3a(x1)\n",
    "        x1 = tf.reshape(x1, [x1.shape[0], -1])\n",
    "        x1_id_layer = self.fc1a(x1)\n",
    "        x1_id_layer_act = self.fc1a_act(x1_id_layer)\n",
    "        \n",
    "        # If we are training for classification loss, use dropout.\n",
    "        if (training):\n",
    "            if self.loss_type is \"Class\":\n",
    "                x1_dropout = self.dropout(x1_id_layer_act)\n",
    "                x1_logits = self.fc2a(x1_dropout)\n",
    "            else:\n",
    "                x1_logits = self.fc2a(x1_id_layer_act)\n",
    "                \n",
    "            # Get L2 distances between image \"couples\"\n",
    "            distances = tf.reduce_mean((x1_id_layer[0:half_batch_size] - x1_id_layer[half_batch_size:batch_size])**2, axis=1)\n",
    "\n",
    "        else:\n",
    "            x1_logits = self.fc2a(x1_id_layer_act)\n",
    "            distances = 0\n",
    "\n",
    "        \n",
    "        return x1_logits, x1_id_layer, distances \n",
    "    \n",
    "    def loss(self, logits1, labels1, x1_id_layer, batch_size):        \n",
    "        half_batch_size = int(batch_size / 2)\n",
    "        \n",
    "        # Just to make sure that both halves are equal\n",
    "        batch_size = int(half_batch_size * 2)\n",
    "        \n",
    "        # Calculate losses according to classification requirments and comparison requirement\n",
    "        # Loss 1: classification requirement\n",
    "        onehot_labels = tf.one_hot(indices=tf.cast(labels1, tf.int32), depth = num_of_ids)\n",
    "        loss_1 = tf.losses.softmax_cross_entropy(onehot_labels, logits1)\n",
    "            \n",
    "        # Loss 2: contrastive loss\n",
    "        gt_labels = np.zeros((half_batch_size))\n",
    "        same = np.where(np.array(labels1[0:half_batch_size] - labels1[half_batch_size:batch_size]) == 0)[0]\n",
    "        gt_labels[same] = 1\n",
    "        gt_labels = tf.convert_to_tensor(gt_labels)\n",
    "        \n",
    "        anchors = tf.convert_to_tensor(x1_id_layer[0:half_batch_size])\n",
    "        positives = tf.convert_to_tensor(x1_id_layer[half_batch_size:batch_size])\n",
    "        loss_2 = tf.contrib.losses.metric_learning.contrastive_loss(labels=gt_labels,\n",
    "                                                                    embeddings_anchor=anchors,\n",
    "                                                                    embeddings_positive=positives,\n",
    "                                                                    margin=self.similarity_threshold)\n",
    "        return loss_1, loss_2\n",
    "    \n",
    "    def optimize(self, inputs, labels):\n",
    "        with tf.GradientTape(persistent=True) as tape:\n",
    "            x1_logits, x1_id_layer, distances = self(inputs)\n",
    "            loss_1, loss_2 = self.loss(x1_logits, labels, x1_id_layer, int(inputs.shape[0]))\n",
    "        \n",
    "        # Apply gradinets according totraining phase we are in\n",
    "        if self.loss_type is \"Class\":\n",
    "            gradients = tape.gradient(loss_1, self.variables)\n",
    "            self.optimizer1.apply_gradients(zip(gradients, self.variables))\n",
    "        if self.loss_type is \"Similarity\":\n",
    "            # For similarity training apply gradients only to the fc1a layer\n",
    "            gradients = tape.gradient(loss_2, self.variables[6:8])\n",
    "            self.optimizer2.apply_gradients(zip(gradients, self.variables[6:8]))\n",
    "            \n",
    "        del(tape)\n",
    "        return loss_1, loss_2\n",
    "    \n",
    "    def test(self, inputs, labels, similarity_test=False, training_set=False, debug_print=False, thresh=1):\n",
    "        x1_logits, x1_id_layer, distance = self(inputs, training=False)\n",
    "        test_class_1, test_class_2, test_compare = 0, 0, 0\n",
    "        \n",
    "        # Scores for predecting image labels\n",
    "        pred_labels = tf.argmax(x1_logits, axis=-1)\n",
    "        pred_labels = tf.cast(pred_labels, tf.float64)\n",
    "        label_acc = tf.reduce_mean(tf.cast(tf.equal(pred_labels, labels), tf.float32))\n",
    "        \n",
    "        # Scores for the similarity test\n",
    "        correct, incorrect = 0, 0\n",
    "        similarity_acc = 0\n",
    "        sum_of_distances_for_sim, sum_of_distances_for_diff, sim_count, diff_count = 0, 0, 0, 0\n",
    "        sim_diff_ratio = 0\n",
    "        \n",
    "        size = int(inputs.shape[0]) if (int(inputs.shape[0]) % 2 == 0) else int(inputs.shape[0]) - 1\n",
    "        \n",
    "        if (similarity_test):\n",
    "            # Training and validation set have different structures so testing method is split into 2 options\n",
    "            if (training_set):\n",
    "                for i in range(0, int(size/2)):\n",
    "                    if int(labels[i]) == int(labels[int(size/2) + i]):\n",
    "                        if (tf.reduce_mean(tf.abs((x1_id_layer[i] - x1_id_layer[int(size/2) + i])**2))) < thresh:\n",
    "                            correct +=1\n",
    "                        else:\n",
    "                            incorrect +=1\n",
    "                    else:\n",
    "                        if (tf.reduce_mean(tf.abs((x1_id_layer[i] - x1_id_layer[int(size/2) + i])**2))) > thresh:\n",
    "                            correct +=1\n",
    "                        else:\n",
    "                            incorrect +=1\n",
    "            else:\n",
    "                for i in range(0, size, 2):\n",
    "                    if int(labels[i]) == int(labels[i + 1]):\n",
    "                        distance = tf.reduce_mean(tf.abs((x1_id_layer[i] - x1_id_layer[i + 1])**2))\n",
    "                        sum_of_distances_for_sim += distance\n",
    "                        sim_count += 1\n",
    "                        if distance < thresh:\n",
    "                            if(debug_print):\n",
    "                                print(\"Got similar pics correct: distance = {} thresh = {}\".format(distance, thresh))\n",
    "                            correct +=1\n",
    "                        else:\n",
    "                            if(debug_print):\n",
    "                                print(\"Got similar pics wrong: distance = {} thresh = {}\".format(distance, thresh))\n",
    "                            incorrect +=1\n",
    "                    else:\n",
    "                        distance = tf.reduce_mean(tf.abs((x1_id_layer[i] - x1_id_layer[i + 1])**2))\n",
    "                        sum_of_distances_for_diff += distance\n",
    "                        diff_count += 1\n",
    "                        if distance > thresh:\n",
    "                            if(debug_print):\n",
    "                                print(\"Got different pics correct: distance = {} thresh = {}\".format(distance, thresh))\n",
    "                            correct +=1\n",
    "                        else:\n",
    "                            if(debug_print):\n",
    "                                print(\"Got different pics wrong: distance = {} thresh = {}\".format(distance, thresh))\n",
    "                            incorrect +=1\n",
    "                            \n",
    "                distance_average_sim = sum_of_distances_for_sim/sim_count\n",
    "                distance_average_diff = sum_of_distances_for_diff/diff_count\n",
    "                # sim_diff_ratio is the ration of differences between distances predicted for similar pairs and the \n",
    "                # distacnes predicted for different pairs. The lower the difference the better the model will differ between\n",
    "                # similar and different images\n",
    "                sim_diff_ratio = distance_average_sim/distance_average_diff\n",
    "                            \n",
    "            # similarity_acc is the percantage of correct predictions\n",
    "            similarity_acc = correct/(correct + incorrect)\n",
    "            \n",
    "            \n",
    "        return label_acc, similarity_acc, sim_diff_ratio\n",
    "        \n"
   ]
  },
  {
   "cell_type": "markdown",
   "metadata": {},
   "source": [
    "# Phase 1: Train using classification loss"
   ]
  },
  {
   "cell_type": "code",
   "execution_count": 9,
   "metadata": {},
   "outputs": [
    {
     "name": "stdout",
     "output_type": "stream",
     "text": [
      "[29.12|19:38:20] Step 0: classification loss: 6.558256\n",
      "[29.12|19:38:40] Step 40: classification loss: 2.896908\n",
      "[29.12|19:39:00] EVAL SET: Step 80: classification accuracy: 0.570895\n",
      "[29.12|19:39:00] TRAIN SET: Step 80: classification accuracy: 0.935000\n",
      "[29.12|19:39:00] Step 80: classification loss: 0.234879\n",
      "[29.12|19:39:21] Step 120: classification loss: 0.047964\n",
      "[29.12|19:39:41] EVAL SET: Step 160: classification accuracy: 0.705224\n",
      "[29.12|19:39:41] TRAIN SET: Step 160: classification accuracy: 0.998750\n",
      "[29.12|19:39:41] Step 160: classification loss: 0.003206\n",
      "[29.12|19:40:01] Step 200: classification loss: 0.004737\n",
      "[29.12|19:40:21] EVAL SET: Step 240: classification accuracy: 0.705224\n",
      "[29.12|19:40:21] TRAIN SET: Step 240: classification accuracy: 0.998750\n",
      "[29.12|19:40:21] Step 240: classification loss: 0.001530\n",
      "[29.12|19:40:42] Step 280: classification loss: 0.000266\n",
      "[29.12|19:41:02] EVAL SET: Step 320: classification accuracy: 0.712687\n",
      "[29.12|19:41:02] TRAIN SET: Step 320: classification accuracy: 1.000000\n",
      "[29.12|19:41:02] Step 320: classification loss: 0.000160\n"
     ]
    }
   ],
   "source": [
    "num_of_ids = len(subject_list)\n",
    "# Metrics to save\n",
    "loss1_val = []\n",
    "loss_step = []\n",
    "acc_val = []\n",
    "acc_train = []\n",
    "evaluation_step = []\n",
    "best_score = 0\n",
    "\n",
    "# Globals affecting logging and evaluation frequency\n",
    "STEP_SIZE_LOSS = 40\n",
    "STEP_SIZE_EVALUATE = 80\n",
    "\n",
    "batch_size = 800\n",
    "num_of_epochs = 40\n",
    "\n",
    "dataset = Dataset(data_dict['X_train'], data_dict['y_train'], batch_size, num_of_epochs)\n",
    "with tf.device(\"/device:GPU:0\"):\n",
    "    model = CombinedClassifier(num_of_ids=num_of_ids, loss_type=\"Class\", class_lr=1e-3)\n",
    "    for step in range(dataset.steps):\n",
    "        batch_x, batch_y = dataset.create_mini_batch()\n",
    "        if (step % STEP_SIZE_EVALUATE == 0 and step):\n",
    "            \n",
    "            # Evaluate on validation set\n",
    "            accuracy, _, _ = model.test(data_dict['X_eval'], data_dict['y_eval'], similarity_test=False)\n",
    "            print('[{0}] {1}'.format(datetime.now().strftime('%d.%m|%H:%M:%S'),\n",
    "                                     \"EVAL SET: Step %d: classification accuracy: %f\" % (step, accuracy)))\n",
    "            acc_val.append(accuracy)\n",
    "            evaluation_step.append(step)\n",
    "            if (accuracy > best_score):\n",
    "                model.save_weights('cpt/cpt_%s' % step)\n",
    "                name_save = ('cpt/cpt_%s' % step)\n",
    "                bestt_score = accuracy\n",
    "            \n",
    "            # Evaluate on training set\n",
    "            accuracy, _, _ = model.test(batch_x, batch_y, similarity_test=False)\n",
    "            print('[{0}] {1}'.format(datetime.now().strftime('%d.%m|%H:%M:%S'),\n",
    "                                     \"TRAIN SET: Step %d: classification accuracy: %f\" % (step, accuracy)))\n",
    "            acc_train.append(accuracy)\n",
    "            \n",
    "        # Train\n",
    "        loss1, loss2 = model.optimize(batch_x, batch_y)\n",
    "        loss1_val.append(loss1)\n",
    "        loss_step.append(step)\n",
    "        \n",
    "        if (step % STEP_SIZE_LOSS == 0):\n",
    "            print('[{0}] {1}'.format(datetime.now().strftime('%d.%m|%H:%M:%S'),\n",
    "                                     \"Step %d: classification loss: %f\" % (step, loss1)))\n",
    "        "
   ]
  },
  {
   "cell_type": "markdown",
   "metadata": {},
   "source": [
    "## Classification loss"
   ]
  },
  {
   "cell_type": "code",
   "execution_count": 10,
   "metadata": {},
   "outputs": [
    {
     "data": {
      "image/png": "[encoded data removed]",
      "text/plain": [
       "<Figure size 432x288 with 1 Axes>"
      ]
     },
     "metadata": {
      "needs_background": "light"
     },
     "output_type": "display_data"
    }
   ],
   "source": [
    "plot.title('Classification loss as number of steps')\n",
    "plot.plot(loss_step, loss1_val, 'r')\n",
    "plot.show()"
   ]
  },
  {
   "cell_type": "markdown",
   "metadata": {},
   "source": [
    "## Classification accuracy"
   ]
  },
  {
   "cell_type": "code",
   "execution_count": 11,
   "metadata": {},
   "outputs": [
    {
     "data": {
      "image/png": "[encoded data removed]",
      "text/plain": [
       "<Figure size 432x288 with 1 Axes>"
      ]
     },
     "metadata": {
      "needs_background": "light"
     },
     "output_type": "display_data"
    }
   ],
   "source": [
    "plot.plot(evaluation_step, acc_val, label='Evaluation set classification accuracy')\n",
    "plot.plot(evaluation_step, acc_train, label='Training set classification accuracy')\n",
    "plot.legend()\n",
    "plot.show()"
   ]
  },
  {
   "cell_type": "code",
   "execution_count": 12,
   "metadata": {
    "collapsed": true
   },
   "outputs": [],
   "source": [
    "def get_best_score(model):\n",
    "    best_sim=0\n",
    "    threshs = np.arange(0, model.similarity_threshold, model.similarity_threshold/200)\n",
    "    for i in threshs:\n",
    "        accuracy, sim, _ = model.test(data_dict['X_eval'], data_dict['y_eval'], similarity_test=True, thresh=i)\n",
    "        if (sim > best_sim):\n",
    "            best_sim = sim\n",
    "            best_thresh = i\n",
    "    return (best_sim, best_thresh)"
   ]
  },
  {
   "cell_type": "markdown",
   "metadata": {},
   "source": [
    "# Phase 2: train using contrastive loss"
   ]
  },
  {
   "cell_type": "markdown",
   "metadata": {},
   "source": [
    "## Train with contrastive loss, margin=10"
   ]
  },
  {
   "cell_type": "code",
   "execution_count": null,
   "metadata": {},
   "outputs": [
    {
     "name": "stdout",
     "output_type": "stream",
     "text": [
      "[29.12|19:41:57] Step 0: Contrastive loss: 25974.734375\n",
      "[29.12|19:42:41] Step 500: Contrastive loss: 259.208801\n",
      "[29.12|19:43:24] Step 1000: Contrastive loss: 128.267212\n",
      "[29.12|19:44:08] Step 1500: Contrastive loss: 91.371742\n",
      "[29.12|19:44:52] Step 2000: Contrastive loss: 104.051086\n",
      "[29.12|19:45:36] Step 2500: Contrastive loss: 108.383736\n",
      "[29.12|19:46:56] EVAL SET: Step 3000: similarity accuracy: 0.694030\n",
      "[29.12|19:46:57] TRAIN SET: Step 3000: similarity accuracy: 0.531250\n",
      "[29.12|19:46:57] Step 3000: Contrastive loss: 141.138290\n",
      "[29.12|19:47:41] Step 3500: Contrastive loss: 117.171143\n",
      "[29.12|19:48:24] Step 4000: Contrastive loss: 199.419983\n",
      "[29.12|19:49:08] Step 4500: Contrastive loss: 88.135986\n",
      "[29.12|19:49:52] Step 5000: Contrastive loss: 120.697769\n",
      "[29.12|19:50:36] Step 5500: Contrastive loss: 91.447296\n",
      "[29.12|19:51:56] EVAL SET: Step 6000: similarity accuracy: 0.701493\n",
      "[29.12|19:51:57] TRAIN SET: Step 6000: similarity accuracy: 0.593750\n",
      "[29.12|19:51:57] Step 6000: Contrastive loss: 94.691933\n",
      "[29.12|19:52:41] Step 6500: Contrastive loss: 226.323608\n",
      "[29.12|19:53:25] Step 7000: Contrastive loss: 109.058899\n",
      "[29.12|19:54:09] Step 7500: Contrastive loss: 105.030563\n",
      "[29.12|19:54:52] Step 8000: Contrastive loss: 76.235092\n",
      "[29.12|19:55:36] Step 8500: Contrastive loss: 82.852936\n",
      "[29.12|19:56:57] EVAL SET: Step 9000: similarity accuracy: 0.708955\n",
      "[29.12|19:56:57] TRAIN SET: Step 9000: similarity accuracy: 0.562500\n",
      "[29.12|19:56:57] Step 9000: Contrastive loss: 158.435242\n",
      "[29.12|19:57:41] Step 9500: Contrastive loss: 111.110100\n",
      "[29.12|19:58:25] Step 10000: Contrastive loss: 85.172577\n",
      "[29.12|19:59:09] Step 10500: Contrastive loss: 119.713516\n",
      "[29.12|19:59:53] Step 11000: Contrastive loss: 115.569946\n",
      "[29.12|20:00:37] Step 11500: Contrastive loss: 110.119545\n",
      "[29.12|20:01:57] EVAL SET: Step 12000: similarity accuracy: 0.723881\n",
      "[29.12|20:01:57] TRAIN SET: Step 12000: similarity accuracy: 0.593750\n",
      "[29.12|20:01:57] Step 12000: Contrastive loss: 86.031052\n",
      "[29.12|20:02:41] Step 12500: Contrastive loss: 91.781082\n",
      "[29.12|20:03:25] Step 13000: Contrastive loss: 78.275002\n",
      "[29.12|20:04:09] Step 13500: Contrastive loss: 70.604767\n",
      "[29.12|20:04:53] Step 14000: Contrastive loss: 103.336868\n",
      "[29.12|20:05:37] Step 14500: Contrastive loss: 184.492371\n",
      "[29.12|20:06:57] EVAL SET: Step 15000: similarity accuracy: 0.708955\n",
      "[29.12|20:06:58] TRAIN SET: Step 15000: similarity accuracy: 0.593750\n",
      "[29.12|20:06:58] Step 15000: Contrastive loss: 79.701233\n",
      "[29.12|20:07:42] Step 15500: Contrastive loss: 137.194794\n",
      "[29.12|20:08:25] Step 16000: Contrastive loss: 71.889732\n",
      "[29.12|20:09:09] Step 16500: Contrastive loss: 111.775177\n",
      "[29.12|20:09:53] Step 17000: Contrastive loss: 66.753029\n",
      "[29.12|20:10:37] Step 17500: Contrastive loss: 251.652115\n",
      "[29.12|20:11:58] EVAL SET: Step 18000: similarity accuracy: 0.701493\n",
      "[29.12|20:11:58] TRAIN SET: Step 18000: similarity accuracy: 0.593750\n",
      "[29.12|20:11:58] Step 18000: Contrastive loss: 92.731728\n",
      "[29.12|20:12:42] Step 18500: Contrastive loss: 200.809692\n",
      "[29.12|20:13:26] Step 19000: Contrastive loss: 112.458374\n",
      "[29.12|20:14:10] Step 19500: Contrastive loss: 200.804016\n",
      "[29.12|20:14:54] Step 20000: Contrastive loss: 238.273163\n",
      "[29.12|20:15:38] Step 20500: Contrastive loss: 74.895149\n",
      "[29.12|20:16:58] EVAL SET: Step 21000: similarity accuracy: 0.694030\n",
      "[29.12|20:16:58] TRAIN SET: Step 21000: similarity accuracy: 0.546875\n",
      "[29.12|20:16:58] Step 21000: Contrastive loss: 69.849854\n",
      "[29.12|20:17:42] Step 21500: Contrastive loss: 88.501930\n"
     ]
    }
   ],
   "source": [
    "num_of_ids = len(subject_list)\n",
    "\n",
    "#Metrics to save\n",
    "loss1_val = []\n",
    "loss2_val = []\n",
    "loss_step = []\n",
    "acc_val = []\n",
    "sim_val = []\n",
    "acc_train = []\n",
    "sim_train = []\n",
    "evaluation_step = []\n",
    "\n",
    "# Globals affecting logging and evaluation frequency\n",
    "STEP_SIZE_LOSS = 500\n",
    "STEP_SIZE_EVALUATE = 3000\n",
    "best_sim = 0\n",
    "\n",
    "batch_size = 128\n",
    "num_of_epochs = 400\n",
    "dataset = Dataset(data_dict['X_train'], data_dict['y_train'], batch_size, num_of_epochs)\n",
    "with tf.device(\"/device:GPU:0\"):\n",
    "    model = CombinedClassifier(num_of_ids=num_of_ids, loss_type=\"Similarity\", similarity_threshold=10, sim_lr=1e-3)\n",
    "    model.load_weights(name_save)\n",
    "    \n",
    "    for step in range(dataset.steps):\n",
    "        batch_x, batch_y = dataset.create_mini_batch()\n",
    "        if (step % STEP_SIZE_EVALUATE == 0 and step != 0):          \n",
    "            # Evaluate on validation set\n",
    "            sim, th = get_best_score(model)\n",
    "            print('[{0}] {1}'.format(datetime.now().strftime('%d.%m|%H:%M:%S'),\n",
    "                                     \"EVAL SET: Step %d: similarity accuracy: %f\" % (step, sim)))\n",
    "            \n",
    "            sim_val.append(sim)\n",
    "            evaluation_step.append(step)\n",
    "            if (sim > best_sim):\n",
    "                model.save_weights('cpt/cpt_sim_contrastive_10')\n",
    "                best_sim = sim\n",
    "                best_thresh = th\n",
    "            \n",
    "            # Evaluate on training set\n",
    "            accuracy, sim, _ = model.test(batch_x, batch_y, similarity_test=True, training_set=True)\n",
    "            print('[{0}] {1}'.format(datetime.now().strftime('%d.%m|%H:%M:%S'),\n",
    "                                     \"TRAIN SET: Step %d: similarity accuracy: %f\" % (step, sim)))\n",
    "            acc_train.append(accuracy)\n",
    "            sim_train.append(sim)\n",
    "            \n",
    "            \n",
    "        \n",
    "        loss1, loss2 = model.optimize(batch_x, batch_y)\n",
    "        loss1_val.append(loss1)\n",
    "        loss2_val.append(loss2)\n",
    "        loss_step.append(step)\n",
    "        \n",
    "        if (step % STEP_SIZE_LOSS == 0):\n",
    "            print('[{0}] {1}'.format(datetime.now().strftime('%d.%m|%H:%M:%S'),\n",
    "                                     \"Step %d: Contrastive loss: %f\" % (step, loss2)))\n"
   ]
  },
  {
   "cell_type": "markdown",
   "metadata": {},
   "source": [
    "## Contrastive Loss "
   ]
  },
  {
   "cell_type": "code",
   "execution_count": 16,
   "metadata": {},
   "outputs": [
    {
     "data": {
      "image/png": "[encoded data removed]",
      "text/plain": [
       "<Figure size 432x288 with 1 Axes>"
      ]
     },
     "metadata": {
      "needs_background": "light"
     },
     "output_type": "display_data"
    }
   ],
   "source": [
    "plot.title('Contrastive loss as number of steps')\n",
    "plot.plot(loss_step, loss2_val, 'r')\n",
    "plot.show()"
   ]
  },
  {
   "cell_type": "markdown",
   "metadata": {},
   "source": [
    "## Evaluation for similarity check"
   ]
  },
  {
   "cell_type": "code",
   "execution_count": 17,
   "metadata": {},
   "outputs": [
    {
     "data": {
      "image/png": "[encoded data removed]",
      "text/plain": [
       "<Figure size 432x288 with 1 Axes>"
      ]
     },
     "metadata": {
      "needs_background": "light"
     },
     "output_type": "display_data"
    }
   ],
   "source": [
    "plot.plot(evaluation_step, sim_val, label='Evaluation set similarity accuracy')\n",
    "plot.legend()\n",
    "plot.show()"
   ]
  },
  {
   "cell_type": "markdown",
   "metadata": {},
   "source": [
    "## Train with contrastive loss, margin=30"
   ]
  },
  {
   "cell_type": "code",
   "execution_count": 19,
   "metadata": {},
   "outputs": [
    {
     "name": "stdout",
     "output_type": "stream",
     "text": [
      "[29.12|20:30:55] Step 0: Contrastive loss: 27194.785156\n",
      "[29.12|20:31:31] Step 400: Contrastive loss: 3493.659180\n",
      "[29.12|20:32:06] Step 800: Contrastive loss: 964.392700\n",
      "[29.12|20:32:41] Step 1200: Contrastive loss: 699.433960\n",
      "[29.12|20:33:16] Step 1600: Contrastive loss: 502.704224\n",
      "[29.12|20:33:51] Step 2000: Contrastive loss: 346.941223\n",
      "[29.12|20:34:26] Step 2400: Contrastive loss: 314.041199\n",
      "[29.12|20:35:01] Step 2800: Contrastive loss: 240.466888\n",
      "[29.12|20:35:54] EVAL SET: Step 3000: similarity accuracy: 0.701493\n",
      "[29.12|20:35:55] TRAIN SET: Step 3000: similarity accuracy: 0.906250\n",
      "[29.12|20:36:12] Step 3200: Contrastive loss: 231.356140\n",
      "[29.12|20:36:47] Step 3600: Contrastive loss: 215.587769\n",
      "[29.12|20:37:22] Step 4000: Contrastive loss: 174.278778\n",
      "[29.12|20:37:58] Step 4400: Contrastive loss: 150.105957\n",
      "[29.12|20:38:33] Step 4800: Contrastive loss: 127.431084\n",
      "[29.12|20:39:08] Step 5200: Contrastive loss: 119.974106\n",
      "[29.12|20:39:43] Step 5600: Contrastive loss: 118.948753\n",
      "[29.12|20:40:55] EVAL SET: Step 6000: similarity accuracy: 0.746269\n",
      "[29.12|20:40:56] TRAIN SET: Step 6000: similarity accuracy: 0.984375\n",
      "[29.12|20:40:56] Step 6000: Contrastive loss: 99.875641\n",
      "[29.12|20:41:31] Step 6400: Contrastive loss: 114.473106\n",
      "[29.12|20:42:06] Step 6800: Contrastive loss: 104.131134\n",
      "[29.12|20:42:41] Step 7200: Contrastive loss: 85.570557\n",
      "[29.12|20:43:16] Step 7600: Contrastive loss: 90.927155\n",
      "[29.12|20:43:52] Step 8000: Contrastive loss: 72.089127\n",
      "[29.12|20:44:27] Step 8400: Contrastive loss: 72.991379\n",
      "[29.12|20:45:02] Step 8800: Contrastive loss: 65.809090\n",
      "[29.12|20:45:56] EVAL SET: Step 9000: similarity accuracy: 0.776119\n",
      "[29.12|20:45:57] TRAIN SET: Step 9000: similarity accuracy: 0.875000\n",
      "[29.12|20:46:14] Step 9200: Contrastive loss: 76.177452\n",
      "[29.12|20:46:49] Step 9600: Contrastive loss: 81.023834\n",
      "[29.12|20:47:25] Step 10000: Contrastive loss: 68.239441\n",
      "[29.12|20:48:00] Step 10400: Contrastive loss: 62.261929\n",
      "[29.12|20:48:35] Step 10800: Contrastive loss: 64.341644\n",
      "[29.12|20:49:10] Step 11200: Contrastive loss: 70.447357\n",
      "[29.12|20:49:45] Step 11600: Contrastive loss: 58.782383\n",
      "[29.12|20:50:57] EVAL SET: Step 12000: similarity accuracy: 0.783582\n",
      "[29.12|20:50:58] TRAIN SET: Step 12000: similarity accuracy: 0.921875\n",
      "[29.12|20:50:58] Step 12000: Contrastive loss: 55.967571\n",
      "[29.12|20:51:33] Step 12400: Contrastive loss: 54.994789\n",
      "[29.12|20:52:08] Step 12800: Contrastive loss: 67.404610\n",
      "[29.12|20:52:43] Step 13200: Contrastive loss: 52.800583\n",
      "[29.12|20:53:18] Step 13600: Contrastive loss: 64.873253\n",
      "[29.12|20:53:53] Step 14000: Contrastive loss: 47.973160\n",
      "[29.12|20:54:28] Step 14400: Contrastive loss: 56.349113\n",
      "[29.12|20:55:03] Step 14800: Contrastive loss: 45.464622\n",
      "[29.12|20:55:59] EVAL SET: Step 15000: similarity accuracy: 0.805970\n",
      "[29.12|20:55:59] TRAIN SET: Step 15000: similarity accuracy: 0.875000\n",
      "[29.12|20:56:16] Step 15200: Contrastive loss: 48.008930\n",
      "[29.12|20:56:52] Step 15600: Contrastive loss: 44.420872\n",
      "[29.12|20:57:27] Step 16000: Contrastive loss: 41.313473\n",
      "[29.12|20:58:02] Step 16400: Contrastive loss: 35.644318\n",
      "[29.12|20:58:37] Step 16800: Contrastive loss: 39.301620\n",
      "[29.12|20:59:12] Step 17200: Contrastive loss: 49.704704\n",
      "[29.12|20:59:47] Step 17600: Contrastive loss: 35.242954\n",
      "[29.12|21:01:00] EVAL SET: Step 18000: similarity accuracy: 0.791045\n",
      "[29.12|21:01:00] TRAIN SET: Step 18000: similarity accuracy: 0.937500\n",
      "[29.12|21:01:00] Step 18000: Contrastive loss: 47.476925\n",
      "[29.12|21:01:35] Step 18400: Contrastive loss: 46.687634\n",
      "[29.12|21:02:10] Step 18800: Contrastive loss: 53.079483\n",
      "[29.12|21:02:45] Step 19200: Contrastive loss: 45.720066\n",
      "[29.12|21:03:20] Step 19600: Contrastive loss: 49.385555\n",
      "[29.12|21:03:55] Step 20000: Contrastive loss: 38.285599\n",
      "[29.12|21:04:31] Step 20400: Contrastive loss: 42.546402\n",
      "[29.12|21:05:06] Step 20800: Contrastive loss: 43.957005\n",
      "[29.12|21:06:01] EVAL SET: Step 21000: similarity accuracy: 0.813433\n",
      "[29.12|21:06:01] TRAIN SET: Step 21000: similarity accuracy: 0.953125\n",
      "[29.12|21:11:02] EVAL SET: Step 24000: similarity accuracy: 0.798507\n",
      "[29.12|21:11:02] TRAIN SET: Step 24000: similarity accuracy: 0.953125\n",
      "[29.12|21:11:02] Step 24000: Contrastive loss: 42.214314\n",
      "[29.12|21:11:37] Step 24400: Contrastive loss: 37.154289\n",
      "[29.12|21:12:12] Step 24800: Contrastive loss: 45.368885\n",
      "[29.12|21:12:47] Step 25200: Contrastive loss: 39.346458\n",
      "[29.12|21:13:22] Step 25600: Contrastive loss: 43.024582\n",
      "[29.12|21:13:57] Step 26000: Contrastive loss: 40.238037\n",
      "[29.12|21:14:32] Step 26400: Contrastive loss: 31.623562\n",
      "[29.12|21:15:07] Step 26800: Contrastive loss: 36.340660\n",
      "[29.12|21:16:02] EVAL SET: Step 27000: similarity accuracy: 0.820896\n",
      "[29.12|21:16:02] TRAIN SET: Step 27000: similarity accuracy: 0.984375\n"
     ]
    }
   ],
   "source": [
    "num_of_ids = len(subject_list)\n",
    "\n",
    "#Metrics to save\n",
    "loss1_val = []\n",
    "loss2_val = []\n",
    "loss_step = []\n",
    "acc_val = []\n",
    "sim_val = []\n",
    "acc_train = []\n",
    "sim_train = []\n",
    "evaluation_step = []\n",
    "\n",
    "# Globals affecting logging and evaluation frequency\n",
    "STEP_SIZE_LOSS = 400\n",
    "STEP_SIZE_EVALUATE = 3000\n",
    "best_sim = 0\n",
    "\n",
    "batch_size = 128\n",
    "num_of_epochs = 500\n",
    "dataset = Dataset(data_dict['X_train'], data_dict['y_train'], batch_size, num_of_epochs)\n",
    "with tf.device(\"/device:GPU:0\"):\n",
    "    model = CombinedClassifier(num_of_ids=num_of_ids, loss_type=\"Similarity\", similarity_threshold=30, sim_lr=1e-4)\n",
    "    model.load_weights(name_save)\n",
    "    \n",
    "    for step in range(dataset.steps):\n",
    "        batch_x, batch_y = dataset.create_mini_batch()\n",
    "        if (step % STEP_SIZE_EVALUATE == 0 and step != 0):          \n",
    "            # Evaluate on validation set\n",
    "            sim, th = get_best_score(model)\n",
    "            print('[{0}] {1}'.format(datetime.now().strftime('%d.%m|%H:%M:%S'),\n",
    "                                     \"EVAL SET: Step %d: similarity accuracy: %f\" % (step, sim)))\n",
    "            \n",
    "            sim_val.append(sim)\n",
    "            evaluation_step.append(step)\n",
    "            if (sim > best_sim):\n",
    "                model.save_weights('cpt/cpt_sim_contrastive_30')\n",
    "                best_sim = sim\n",
    "                best_thresh = th\n",
    "            \n",
    "            # Evaluate on training set\n",
    "            accuracy, sim, _ = model.test(batch_x, batch_y, similarity_test=True, training_set=True)\n",
    "            print('[{0}] {1}'.format(datetime.now().strftime('%d.%m|%H:%M:%S'),\n",
    "                                     \"TRAIN SET: Step %d: similarity accuracy: %f\" % (step, sim)))\n",
    "            acc_train.append(accuracy)\n",
    "            sim_train.append(sim)\n",
    "            \n",
    "            \n",
    "        \n",
    "        loss1, loss2 = model.optimize(batch_x, batch_y)\n",
    "        loss1_val.append(loss1)\n",
    "        loss2_val.append(loss2)\n",
    "        loss_step.append(step)\n",
    "        \n",
    "        if (step % STEP_SIZE_LOSS == 0):\n",
    "            print('[{0}] {1}'.format(datetime.now().strftime('%d.%m|%H:%M:%S'),\n",
    "                                     \"Step %d: Contrastive loss: %f\" % (step, loss2)))\n"
   ]
  },
  {
   "cell_type": "markdown",
   "metadata": {},
   "source": [
    "## Contrastive Loss "
   ]
  },
  {
   "cell_type": "code",
   "execution_count": 28,
   "metadata": {},
   "outputs": [
    {
     "data": {
      "image/png": "[encoded data removed]",
      "text/plain": [
       "<Figure size 432x288 with 1 Axes>"
      ]
     },
     "metadata": {
      "needs_background": "light"
     },
     "output_type": "display_data"
    }
   ],
   "source": [
    "plot.title('Contrastive loss as number of steps')\n",
    "plot.plot(loss_step, loss2_val, 'r')\n",
    "plot.show()"
   ]
  },
  {
   "cell_type": "markdown",
   "metadata": {},
   "source": [
    "## Evaluation for similarity check"
   ]
  },
  {
   "cell_type": "code",
   "execution_count": 29,
   "metadata": {},
   "outputs": [
    {
     "data": {
      "image/png": "[encoded data removed]",
      "text/plain": [
       "<Figure size 432x288 with 1 Axes>"
      ]
     },
     "metadata": {
      "needs_background": "light"
     },
     "output_type": "display_data"
    }
   ],
   "source": [
    "plot.plot(evaluation_step, sim_val, label='Evaluation set similarity accuracy')\n",
    "plot.legend()\n",
    "plot.show()"
   ]
  },
  {
   "cell_type": "code",
   "execution_count": 31,
   "metadata": {},
   "outputs": [
    {
     "name": "stdout",
     "output_type": "stream",
     "text": [
      "Summary for similarity threshold = 30: similarity accuracy = 0.8208955223880597, sim diff ratio = 0.4579905569553375\n"
     ]
    }
   ],
   "source": [
    "model = CombinedClassifier(num_of_ids=num_of_ids, loss_type=\"Similarity\", similarity_threshold=5)\n",
    "model.load_weights('cpt/cpt_sim_contrastive_30')\n",
    "_, sim, ratio = model.test(data_dict['X_eval'], data_dict['y_eval'], similarity_test=True, thresh=best_thresh)\n",
    "print(\"Summary for similarity threshold = 30: similarity accuracy = {}, sim diff ratio = {}\".format(sim, ratio))"
   ]
  },
  {
   "cell_type": "markdown",
   "metadata": {},
   "source": [
    "### similarity threshold 20: accuracy=82.0%, sim diff ratio=0.45"
   ]
  },
  {
   "cell_type": "code",
   "execution_count": null,
   "metadata": {
    "collapsed": true
   },
   "outputs": [],
   "source": []
  }
 ],
 "metadata": {
  "kernelspec": {
   "display_name": "Python 3",
   "language": "python",
   "name": "python3"
  },
  "language_info": {
   "codemirror_mode": {
    "name": "ipython",
    "version": 3
   },
   "file_extension": ".py",
   "mimetype": "text/x-python",
   "name": "python",
   "nbconvert_exporter": "python",
   "pygments_lexer": "ipython3",
   "version": "3.6.5"
  }
 },
 "nbformat": 4,
 "nbformat_minor": 2
}
